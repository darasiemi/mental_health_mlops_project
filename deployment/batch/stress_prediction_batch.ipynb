{
 "cells": [
  {
   "cell_type": "code",
   "execution_count": 1,
   "id": "d0c35ca9-968e-4e41-b3b0-ee26d71fde1b",
   "metadata": {},
   "outputs": [],
   "source": [
    "# Adapted from https://www.kaggle.com/code/ruchitass/predicting-stress-a-machine-learning-approach"
   ]
  },
  {
   "cell_type": "code",
   "execution_count": 2,
   "id": "b0d8f36d-fa27-4792-94dc-5e6dbff722a3",
   "metadata": {},
   "outputs": [
    {
     "name": "stdout",
     "output_type": "stream",
     "text": [
      "Python 3.9.19\n"
     ]
    }
   ],
   "source": [
    "!python --version"
   ]
  },
  {
   "cell_type": "code",
   "execution_count": 3,
   "id": "d7e8571a-ba6f-4cf3-94d3-ce1f54d70f34",
   "metadata": {},
   "outputs": [
    {
     "name": "stderr",
     "output_type": "stream",
     "text": [
      "[nltk_data] Downloading package stopwords to /home/ubuntu/nltk_data...\n",
      "[nltk_data]   Package stopwords is already up-to-date!\n"
     ]
    }
   ],
   "source": [
    "import numpy as np\n",
    "import pandas as pd\n",
    "import matplotlib.pyplot as plt\n",
    "import seaborn as sns\n",
    "\n",
    "import nltk\n",
    "import re\n",
    "\n",
    "# Download the stopwords resource\n",
    "nltk.download('stopwords')\n",
    "\n",
    "stemmer = nltk.SnowballStemmer(\"english\")\n",
    "\n",
    "from wordcloud import STOPWORDS\n",
    "from PIL import Image\n",
    "from wordcloud import WordCloud\n",
    "\n",
    "# from textblob import TextBlob\n",
    "from sklearn.naive_bayes import MultinomialNB\n",
    "from sklearn.linear_model import LogisticRegression\n",
    "from sklearn.tree import DecisionTreeClassifier\n",
    "from sklearn.feature_selection import mutual_info_classif\n",
    "from sklearn.preprocessing import StandardScaler\n",
    "from sklearn.naive_bayes import GaussianNB\n",
    "from sklearn.ensemble import RandomForestClassifier\n",
    "from xgboost import XGBClassifier\n",
    "\n",
    "\n",
    "# import nltk\n",
    "# import re\n",
    "# stemmer = nltk.SnowballStemmer(\"english\")\n",
    "from nltk.corpus import stopwords\n",
    "stopwords = stopwords.words('english')\n",
    "# import string\n",
    "\n",
    "import matplotlib.pyplot as plt\n",
    "import kaggle\n",
    "import pickle\n",
    "\n",
    "\n",
    "from sklearn.feature_extraction.text import CountVectorizer, TfidfVectorizer\n",
    "from sklearn.model_selection import train_test_split\n",
    "from sklearn.metrics import accuracy_score\n",
    "# import warnings\n",
    "# warnings.filterwarnings(\"ignore\")\n",
    "\n",
    "import string\n",
    "#Get a list of punctuations\n",
    "punct = []\n",
    "for char in string.punctuation:\n",
    "    punct.append(char)"
   ]
  },
  {
   "cell_type": "code",
   "execution_count": 4,
   "id": "52f13156-d76f-4fa0-afff-4a9358fae200",
   "metadata": {},
   "outputs": [
    {
     "name": "stdout",
     "output_type": "stream",
     "text": [
      "3.8.1\n"
     ]
    }
   ],
   "source": [
    "print(nltk.__version__)"
   ]
  },
  {
   "cell_type": "code",
   "execution_count": 5,
   "id": "71d28cf6-d94d-43a1-8704-bbe737c5330b",
   "metadata": {},
   "outputs": [
    {
     "name": "stdout",
     "output_type": "stream",
     "text": [
      "1.4.2\n"
     ]
    }
   ],
   "source": [
    "import sklearn\n",
    "print(sklearn.__version__)"
   ]
  },
  {
   "cell_type": "code",
   "execution_count": 6,
   "id": "31b858a0-ed51-4b75-ac73-dc33d22a7b5d",
   "metadata": {},
   "outputs": [],
   "source": [
    "import warnings\n",
    "\n",
    "# Suppress all warnings\n",
    "warnings.filterwarnings('ignore')"
   ]
  },
  {
   "cell_type": "code",
   "execution_count": 8,
   "id": "defd4738-b5f3-426f-a84d-9b0c57393236",
   "metadata": {},
   "outputs": [],
   "source": [
    "import mlflow\n",
    "from mlflow.tracking import MlflowClient\n",
    "import os\n",
    "\n",
    "#os.environ[\"AWS_PROFILE\"] = \"dara\" # fill in with your AWS profile. More info: https://docs.aws.amazon.com/sdk-for-java/latest/developer-guide/setup.html#setup-credentials\n",
    "\n",
    "TRACKING_SERVER_HOST = \"ec2-13-53-192-42.eu-north-1.compute.amazonaws.com\" # fill in with the public DNS of the EC2 instance\n",
    "mlflow.set_tracking_uri(f\"http://{TRACKING_SERVER_HOST}:5000\")"
   ]
  },
  {
   "cell_type": "code",
   "execution_count": 9,
   "id": "89681198-1558-41ca-b23f-6d6d30d4f74e",
   "metadata": {},
   "outputs": [
    {
     "data": {
      "text/plain": [
       "<Experiment: artifact_location='s3://mlflows-artifacts-remote/3', creation_time=1720815677834, experiment_id='3', last_update_time=1720815677834, lifecycle_stage='active', name='random-forest-best-models', tags={}>"
      ]
     },
     "execution_count": 9,
     "metadata": {},
     "output_type": "execute_result"
    }
   ],
   "source": [
    "EXPERIMENT_NAME = \"random-forest-best-models\"\n",
    "mlflow.set_experiment(EXPERIMENT_NAME)"
   ]
  },
  {
   "cell_type": "code",
   "execution_count": 10,
   "id": "fce34df0-8ae0-4c17-b69d-a63b5df1eff1",
   "metadata": {},
   "outputs": [
    {
     "data": {
      "text/plain": [
       "'2.12.2'"
      ]
     },
     "execution_count": 10,
     "metadata": {},
     "output_type": "execute_result"
    }
   ],
   "source": [
    "mlflow.__version__"
   ]
  },
  {
   "cell_type": "code",
   "execution_count": 11,
   "id": "c58520ae-c192-4e8a-a44d-697e59470ecb",
   "metadata": {},
   "outputs": [
    {
     "name": "stdout",
     "output_type": "stream",
     "text": [
      "tracking URI: 'http://ec2-13-53-192-42.eu-north-1.compute.amazonaws.com:5000'\n"
     ]
    }
   ],
   "source": [
    "print(f\"tracking URI: '{mlflow.get_tracking_uri()}'\")"
   ]
  },
  {
   "cell_type": "code",
   "execution_count": 13,
   "id": "3101e8af-676d-47b5-8d6c-2c26e2bd3b1c",
   "metadata": {},
   "outputs": [],
   "source": [
    "run_id = os.getenv(\"RUN_ID\", \"57342ae687254eeeac28602bb8d42aca\")\n",
    "# run_id = \"57342ae687254eeeac28602bb8d42aca\""
   ]
  },
  {
   "cell_type": "code",
   "execution_count": 14,
   "id": "236be92f-5bfc-4e73-9b8c-71c09539e848",
   "metadata": {},
   "outputs": [],
   "source": [
    "input_file = \"dreaddit-test.csv\"\n",
    "output_file = \"output/stress_predictions.parquet\""
   ]
  },
  {
   "cell_type": "code",
   "execution_count": 16,
   "id": "69ef499a-f9dc-4030-a7f9-3a33e6f1fb33",
   "metadata": {},
   "outputs": [],
   "source": [
    "if not os.path.exists(\"output\"):\n",
    "    os.makedirs(\"output\")"
   ]
  },
  {
   "cell_type": "code",
   "execution_count": 17,
   "id": "e2ccaafc-b337-4b0c-abe0-38ba2af49023",
   "metadata": {},
   "outputs": [],
   "source": [
    "def read_dataframe(filename):\n",
    "    # dreaddit-test.csv\n",
    "    df = pd.read_csv(f\"../../data/{filename}\")\n",
    "    \n",
    "    return df\n",
    "    \n",
    "    "
   ]
  },
  {
   "cell_type": "code",
   "execution_count": 18,
   "id": "f3177326-9ca8-4ca3-b942-fe2189547a95",
   "metadata": {},
   "outputs": [],
   "source": [
    "def process_numerical_features(df, numerical_columns, scaler):\n",
    "    X_numerical = df[numerical_columns]\n",
    "    X_numerical = scaler.fit_transform(X_numerical)\n",
    "    return X_numerical\n",
    "    "
   ]
  },
  {
   "cell_type": "code",
   "execution_count": 19,
   "id": "2c503f91-ec70-48f8-8c30-1edd4bf7b399",
   "metadata": {},
   "outputs": [],
   "source": [
    "def removal(text):\n",
    "    text = str(text).lower()\n",
    "    text = re.sub('https?://\\S+|www\\.\\S+', '', text)\n",
    "    text = re.sub('<.*?>+', '', text)\n",
    "    text = re.sub('\\w*\\d\\w*', '', text)\n",
    "    text = [w for w in text.split(' ') if w not in stopwords]\n",
    "    text=\" \".join(text)\n",
    "    text = [stemmer.stem(word) for word in text.split(' ')]\n",
    "    text=\" \".join(text)\n",
    "    return text"
   ]
  },
  {
   "cell_type": "code",
   "execution_count": 21,
   "id": "d8a547d1-9212-4d51-9d00-d2353013d464",
   "metadata": {},
   "outputs": [],
   "source": [
    "def process_categorical_features(df, vect = None):\n",
    "    posts = df[[\"text\"]]\n",
    "    posts[\"text\"] = posts[\"text\"].apply(removal)\n",
    "    # posts[\"sentiment\"] = posts[\"text\"].apply(mood)\n",
    "    X = posts[\"text\"]\n",
    "    if vect:\n",
    "        X = vect.transform(X)\n",
    "    else:\n",
    "        vect=CountVectorizer(stop_words=\"english\")\n",
    "        X=vect.fit_transform(X)\n",
    "    return X, vect\n",
    "    "
   ]
  },
  {
   "cell_type": "code",
   "execution_count": 22,
   "id": "0095fc2a-a44a-433d-8b74-cab6ecee381d",
   "metadata": {},
   "outputs": [],
   "source": [
    "def prepare_features(df, vect=None):\n",
    "    numerical_columns = [\"lex_liwc_Tone\", \"lex_liwc_i\", \"lex_liwc_negemo\", \"lex_liwc_Clout\", \"sentiment\"]\n",
    "    scaler = StandardScaler()\n",
    "    \n",
    "    X_categorical, vect = process_categorical_features(df, vect)\n",
    "    X_numerical = process_numerical_features(df,numerical_columns, scaler)\n",
    "    X_features = np.hstack((X_categorical.toarray(), X_numerical))\n",
    "\n",
    "    return X_features\n",
    "    \n",
    "    "
   ]
  },
  {
   "cell_type": "code",
   "execution_count": 24,
   "id": "51d87925-9e54-47f8-bb8c-7d74535e8e31",
   "metadata": {},
   "outputs": [],
   "source": [
    "def load_model_n_vect(run_id):\n",
    "    logged_model = f'runs:/{run_id}/model'\n",
    "\n",
    "    # Load model as a PyFuncModel.\n",
    "    loaded_model = mlflow.pyfunc.load_model(logged_model)\n",
    "\n",
    "    client = MlflowClient()\n",
    "\n",
    "    client.download_artifacts(run_id=run_id, path='vectorizer', dst_path='.')\n",
    "    \n",
    "    with open(\"vectorizer/vectorizer.b\", \"rb\") as f_in:\n",
    "        vect = pickle.load(f_in)\n",
    "        \n",
    "    return loaded_model, vect\n",
    "    "
   ]
  },
  {
   "cell_type": "code",
   "execution_count": 25,
   "id": "6c842d2a-1fc9-44e6-bd37-8b6eabc90b9b",
   "metadata": {},
   "outputs": [],
   "source": [
    "def apply_model(input_file, run_id, output_file):\n",
    "\n",
    "    df = read_dataframe(input_file)\n",
    "    model, vect = load_model_n_vect(run_id)\n",
    "\n",
    "    X_test = prepare_features(df, vect)\n",
    "    assert X_test.shape[1] == 9453, \"feature size does not match\"\n",
    "    \n",
    "    y_pred = model.predict(X_test)\n",
    "    \"lex_liwc_Tone\", \"lex_liwc_i\", \"lex_liwc_negemo\", \"lex_liwc_Clout\", \"sentiment\"\n",
    "    df_result = pd.DataFrame()\n",
    "    df_result['text'] = df['text']\n",
    "    df_result['lex_liwc_Tone'] = df['lex_liwc_Tone']\n",
    "    df_result['lex_liwc_i'] = df['lex_liwc_i']\n",
    "    df_result['lex_liwc_negemo'] = df['lex_liwc_negemo']\n",
    "    df_result['lex_liwc_Clout'] = df['lex_liwc_Clout']\n",
    "    df_result['sentiment'] = df['sentiment']\n",
    "    df_result['actual_label'] = df['label']\n",
    "    df_result['predicted_stress'] = y_pred\n",
    "    df_result['diff'] = df_result['actual_label'] - df_result['predicted_stress']\n",
    "    df_result['model_version'] = run_id\n",
    "    \n",
    "    df_result.to_parquet(output_file, index=False)"
   ]
  },
  {
   "cell_type": "code",
   "execution_count": null,
   "id": "ea71fa5a-373a-4f1e-8929-97025b9558ee",
   "metadata": {},
   "outputs": [],
   "source": []
  },
  {
   "cell_type": "code",
   "execution_count": 26,
   "id": "426d89b8-0172-4efc-a288-2aaa1a30a5d1",
   "metadata": {},
   "outputs": [
    {
     "data": {
      "application/vnd.jupyter.widget-view+json": {
       "model_id": "079c94f7c27c49d99dd4c389ce32507e",
       "version_major": 2,
       "version_minor": 0
      },
      "text/plain": [
       "Downloading artifacts:   0%|          | 0/9 [00:00<?, ?it/s]"
      ]
     },
     "metadata": {},
     "output_type": "display_data"
    },
    {
     "data": {
      "application/vnd.jupyter.widget-view+json": {
       "model_id": "c22df7eb2fbe4e9ba3d495b490aa6b64",
       "version_major": 2,
       "version_minor": 0
      },
      "text/plain": [
       "Downloading artifacts:   0%|          | 0/1 [00:00<?, ?it/s]"
      ]
     },
     "metadata": {},
     "output_type": "display_data"
    }
   ],
   "source": [
    "apply_model(input_file=input_file, run_id=run_id, output_file=output_file)"
   ]
  },
  {
   "cell_type": "code",
   "execution_count": 27,
   "id": "be027f75-fb0f-4108-820c-d3772b2683ec",
   "metadata": {},
   "outputs": [],
   "source": [
    "df_output = pd.read_parquet(output_file)"
   ]
  },
  {
   "cell_type": "code",
   "execution_count": 28,
   "id": "ee334f94-96f3-43d2-a1d9-e487966ba51e",
   "metadata": {},
   "outputs": [
    {
     "data": {
      "text/html": [
       "<div>\n",
       "<style scoped>\n",
       "    .dataframe tbody tr th:only-of-type {\n",
       "        vertical-align: middle;\n",
       "    }\n",
       "\n",
       "    .dataframe tbody tr th {\n",
       "        vertical-align: top;\n",
       "    }\n",
       "\n",
       "    .dataframe thead th {\n",
       "        text-align: right;\n",
       "    }\n",
       "</style>\n",
       "<table border=\"1\" class=\"dataframe\">\n",
       "  <thead>\n",
       "    <tr style=\"text-align: right;\">\n",
       "      <th></th>\n",
       "      <th>text</th>\n",
       "      <th>lex_liwc_Tone</th>\n",
       "      <th>lex_liwc_i</th>\n",
       "      <th>lex_liwc_negemo</th>\n",
       "      <th>lex_liwc_Clout</th>\n",
       "      <th>sentiment</th>\n",
       "      <th>actual_label</th>\n",
       "      <th>predicted_stress</th>\n",
       "      <th>diff</th>\n",
       "      <th>model_version</th>\n",
       "    </tr>\n",
       "  </thead>\n",
       "  <tbody>\n",
       "    <tr>\n",
       "      <th>0</th>\n",
       "      <td>Its like that, if you want or not.“ ME: I have...</td>\n",
       "      <td>5.95</td>\n",
       "      <td>5.45</td>\n",
       "      <td>1.82</td>\n",
       "      <td>57.22</td>\n",
       "      <td>0.000000</td>\n",
       "      <td>0</td>\n",
       "      <td>0</td>\n",
       "      <td>0</td>\n",
       "      <td>57342ae687254eeeac28602bb8d42aca</td>\n",
       "    </tr>\n",
       "    <tr>\n",
       "      <th>1</th>\n",
       "      <td>I man the front desk and my title is HR Custom...</td>\n",
       "      <td>92.40</td>\n",
       "      <td>6.94</td>\n",
       "      <td>0.00</td>\n",
       "      <td>50.00</td>\n",
       "      <td>-0.065909</td>\n",
       "      <td>0</td>\n",
       "      <td>0</td>\n",
       "      <td>0</td>\n",
       "      <td>57342ae687254eeeac28602bb8d42aca</td>\n",
       "    </tr>\n",
       "    <tr>\n",
       "      <th>2</th>\n",
       "      <td>We'd be saving so much money with this new hou...</td>\n",
       "      <td>16.15</td>\n",
       "      <td>6.08</td>\n",
       "      <td>2.03</td>\n",
       "      <td>75.05</td>\n",
       "      <td>-0.036818</td>\n",
       "      <td>1</td>\n",
       "      <td>0</td>\n",
       "      <td>1</td>\n",
       "      <td>57342ae687254eeeac28602bb8d42aca</td>\n",
       "    </tr>\n",
       "    <tr>\n",
       "      <th>3</th>\n",
       "      <td>My ex used to shoot back with \"Do you want me ...</td>\n",
       "      <td>12.51</td>\n",
       "      <td>12.00</td>\n",
       "      <td>2.00</td>\n",
       "      <td>38.19</td>\n",
       "      <td>-0.066667</td>\n",
       "      <td>1</td>\n",
       "      <td>1</td>\n",
       "      <td>0</td>\n",
       "      <td>57342ae687254eeeac28602bb8d42aca</td>\n",
       "    </tr>\n",
       "    <tr>\n",
       "      <th>4</th>\n",
       "      <td>I haven’t said anything to him yet because I’m...</td>\n",
       "      <td>89.84</td>\n",
       "      <td>11.54</td>\n",
       "      <td>0.00</td>\n",
       "      <td>50.00</td>\n",
       "      <td>0.141667</td>\n",
       "      <td>0</td>\n",
       "      <td>0</td>\n",
       "      <td>0</td>\n",
       "      <td>57342ae687254eeeac28602bb8d42aca</td>\n",
       "    </tr>\n",
       "    <tr>\n",
       "      <th>...</th>\n",
       "      <td>...</td>\n",
       "      <td>...</td>\n",
       "      <td>...</td>\n",
       "      <td>...</td>\n",
       "      <td>...</td>\n",
       "      <td>...</td>\n",
       "      <td>...</td>\n",
       "      <td>...</td>\n",
       "      <td>...</td>\n",
       "      <td>...</td>\n",
       "    </tr>\n",
       "    <tr>\n",
       "      <th>710</th>\n",
       "      <td>i have horrible vivid nightmares every night. ...</td>\n",
       "      <td>1.00</td>\n",
       "      <td>9.43</td>\n",
       "      <td>13.21</td>\n",
       "      <td>22.52</td>\n",
       "      <td>-0.075000</td>\n",
       "      <td>1</td>\n",
       "      <td>1</td>\n",
       "      <td>0</td>\n",
       "      <td>57342ae687254eeeac28602bb8d42aca</td>\n",
       "    </tr>\n",
       "    <tr>\n",
       "      <th>711</th>\n",
       "      <td>Also I can't think about both of them without ...</td>\n",
       "      <td>77.00</td>\n",
       "      <td>2.78</td>\n",
       "      <td>2.78</td>\n",
       "      <td>55.52</td>\n",
       "      <td>0.189286</td>\n",
       "      <td>1</td>\n",
       "      <td>0</td>\n",
       "      <td>1</td>\n",
       "      <td>57342ae687254eeeac28602bb8d42aca</td>\n",
       "    </tr>\n",
       "    <tr>\n",
       "      <th>712</th>\n",
       "      <td>Furthermore, I told him before we got really s...</td>\n",
       "      <td>1.00</td>\n",
       "      <td>12.68</td>\n",
       "      <td>8.45</td>\n",
       "      <td>28.65</td>\n",
       "      <td>-0.044444</td>\n",
       "      <td>1</td>\n",
       "      <td>1</td>\n",
       "      <td>0</td>\n",
       "      <td>57342ae687254eeeac28602bb8d42aca</td>\n",
       "    </tr>\n",
       "    <tr>\n",
       "      <th>713</th>\n",
       "      <td>Here's the link to my amazon wish list where t...</td>\n",
       "      <td>96.76</td>\n",
       "      <td>5.00</td>\n",
       "      <td>0.00</td>\n",
       "      <td>25.24</td>\n",
       "      <td>0.090000</td>\n",
       "      <td>0</td>\n",
       "      <td>0</td>\n",
       "      <td>0</td>\n",
       "      <td>57342ae687254eeeac28602bb8d42aca</td>\n",
       "    </tr>\n",
       "    <tr>\n",
       "      <th>714</th>\n",
       "      <td>How can I keep us protected? They have already...</td>\n",
       "      <td>7.28</td>\n",
       "      <td>3.23</td>\n",
       "      <td>1.61</td>\n",
       "      <td>96.18</td>\n",
       "      <td>0.136364</td>\n",
       "      <td>1</td>\n",
       "      <td>0</td>\n",
       "      <td>1</td>\n",
       "      <td>57342ae687254eeeac28602bb8d42aca</td>\n",
       "    </tr>\n",
       "  </tbody>\n",
       "</table>\n",
       "<p>715 rows × 10 columns</p>\n",
       "</div>"
      ],
      "text/plain": [
       "                                                  text  lex_liwc_Tone  \\\n",
       "0    Its like that, if you want or not.“ ME: I have...           5.95   \n",
       "1    I man the front desk and my title is HR Custom...          92.40   \n",
       "2    We'd be saving so much money with this new hou...          16.15   \n",
       "3    My ex used to shoot back with \"Do you want me ...          12.51   \n",
       "4    I haven’t said anything to him yet because I’m...          89.84   \n",
       "..                                                 ...            ...   \n",
       "710  i have horrible vivid nightmares every night. ...           1.00   \n",
       "711  Also I can't think about both of them without ...          77.00   \n",
       "712  Furthermore, I told him before we got really s...           1.00   \n",
       "713  Here's the link to my amazon wish list where t...          96.76   \n",
       "714  How can I keep us protected? They have already...           7.28   \n",
       "\n",
       "     lex_liwc_i  lex_liwc_negemo  lex_liwc_Clout  sentiment  actual_label  \\\n",
       "0          5.45             1.82           57.22   0.000000             0   \n",
       "1          6.94             0.00           50.00  -0.065909             0   \n",
       "2          6.08             2.03           75.05  -0.036818             1   \n",
       "3         12.00             2.00           38.19  -0.066667             1   \n",
       "4         11.54             0.00           50.00   0.141667             0   \n",
       "..          ...              ...             ...        ...           ...   \n",
       "710        9.43            13.21           22.52  -0.075000             1   \n",
       "711        2.78             2.78           55.52   0.189286             1   \n",
       "712       12.68             8.45           28.65  -0.044444             1   \n",
       "713        5.00             0.00           25.24   0.090000             0   \n",
       "714        3.23             1.61           96.18   0.136364             1   \n",
       "\n",
       "     predicted_stress  diff                     model_version  \n",
       "0                   0     0  57342ae687254eeeac28602bb8d42aca  \n",
       "1                   0     0  57342ae687254eeeac28602bb8d42aca  \n",
       "2                   0     1  57342ae687254eeeac28602bb8d42aca  \n",
       "3                   1     0  57342ae687254eeeac28602bb8d42aca  \n",
       "4                   0     0  57342ae687254eeeac28602bb8d42aca  \n",
       "..                ...   ...                               ...  \n",
       "710                 1     0  57342ae687254eeeac28602bb8d42aca  \n",
       "711                 0     1  57342ae687254eeeac28602bb8d42aca  \n",
       "712                 1     0  57342ae687254eeeac28602bb8d42aca  \n",
       "713                 0     0  57342ae687254eeeac28602bb8d42aca  \n",
       "714                 0     1  57342ae687254eeeac28602bb8d42aca  \n",
       "\n",
       "[715 rows x 10 columns]"
      ]
     },
     "execution_count": 28,
     "metadata": {},
     "output_type": "execute_result"
    }
   ],
   "source": [
    "df_output"
   ]
  },
  {
   "cell_type": "code",
   "execution_count": null,
   "id": "5dd89fad-8c99-47ad-8714-b17121399a24",
   "metadata": {},
   "outputs": [],
   "source": []
  }
 ],
 "metadata": {
  "kernelspec": {
   "display_name": "Python 3 (ipykernel)",
   "language": "python",
   "name": "python3"
  },
  "language_info": {
   "codemirror_mode": {
    "name": "ipython",
    "version": 3
   },
   "file_extension": ".py",
   "mimetype": "text/x-python",
   "name": "python",
   "nbconvert_exporter": "python",
   "pygments_lexer": "ipython3",
   "version": "3.9.19"
  }
 },
 "nbformat": 4,
 "nbformat_minor": 5
}
