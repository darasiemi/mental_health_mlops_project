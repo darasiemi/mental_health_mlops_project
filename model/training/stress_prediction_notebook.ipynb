{
 "cells": [
  {
   "cell_type": "code",
   "execution_count": 1,
   "id": "d0c35ca9-968e-4e41-b3b0-ee26d71fde1b",
   "metadata": {},
   "outputs": [],
   "source": [
    "# Adapted from https://www.kaggle.com/code/ruchitass/predicting-stress-a-machine-learning-approach"
   ]
  },
  {
   "cell_type": "code",
   "execution_count": 2,
   "id": "b0d8f36d-fa27-4792-94dc-5e6dbff722a3",
   "metadata": {},
   "outputs": [
    {
     "name": "stdout",
     "output_type": "stream",
     "text": [
      "Python 3.9.19\n"
     ]
    }
   ],
   "source": [
    "!python --version"
   ]
  },
  {
   "cell_type": "code",
   "execution_count": 3,
   "id": "7b880c93-86c2-454f-b199-16710a3f37ba",
   "metadata": {},
   "outputs": [],
   "source": [
    "import mlflow"
   ]
  },
  {
   "cell_type": "code",
   "execution_count": 4,
   "id": "36711907-1762-4e1a-9d13-99202538e7ca",
   "metadata": {},
   "outputs": [
    {
     "data": {
      "text/plain": [
       "'2.12.2'"
      ]
     },
     "execution_count": 4,
     "metadata": {},
     "output_type": "execute_result"
    }
   ],
   "source": [
    "mlflow.__version__"
   ]
  },
  {
   "cell_type": "code",
   "execution_count": 5,
   "id": "9d42b522-db72-46ea-9c46-8808d8f48469",
   "metadata": {},
   "outputs": [],
   "source": [
    "!mkdir -p ~/.kaggle\n",
    "!cp ~/mental_health_mlops_project/kaggle.json ~/.kaggle/\n",
    "!chmod 600 ~/.kaggle/kaggle.json\n"
   ]
  },
  {
   "cell_type": "code",
   "execution_count": 6,
   "id": "d7e8571a-ba6f-4cf3-94d3-ce1f54d70f34",
   "metadata": {},
   "outputs": [
    {
     "name": "stderr",
     "output_type": "stream",
     "text": [
      "[nltk_data] Downloading package stopwords to /home/ubuntu/nltk_data...\n",
      "[nltk_data]   Package stopwords is already up-to-date!\n"
     ]
    }
   ],
   "source": [
    "import pandas as pd\n",
    "import numpy as np\n",
    "import matplotlib.pyplot as plt\n",
    "import seaborn as sns\n",
    "\n",
    "import nltk\n",
    "import re\n",
    "\n",
    "# Download the stopwords resource\n",
    "nltk.download('stopwords')\n",
    "\n",
    "stemmer = nltk.SnowballStemmer(\"english\")\n",
    "\n",
    "from wordcloud import STOPWORDS\n",
    "from PIL import Image\n",
    "from wordcloud import WordCloud\n",
    "\n",
    "# from textblob import TextBlob\n",
    "from sklearn.naive_bayes import MultinomialNB\n",
    "from sklearn.linear_model import LogisticRegression\n",
    "from sklearn.tree import DecisionTreeClassifier\n",
    "from sklearn.feature_selection import mutual_info_classif\n",
    "from sklearn.preprocessing import StandardScaler\n",
    "from sklearn.naive_bayes import GaussianNB\n",
    "from sklearn.ensemble import RandomForestClassifier\n",
    "from xgboost import XGBClassifier\n",
    "\n",
    "import kaggle\n",
    "# import nltk\n",
    "# import re\n",
    "# stemmer = nltk.SnowballStemmer(\"english\")\n",
    "from nltk.corpus import stopwords\n",
    "stopwords = stopwords.words('english')\n",
    "# import string\n",
    "\n",
    "import matplotlib.pyplot as plt\n",
    "import numpy as np\n",
    "\n",
    "\n",
    "from sklearn.feature_extraction.text import CountVectorizer, TfidfVectorizer\n",
    "from sklearn.model_selection import train_test_split\n",
    "from sklearn.metrics import accuracy_score\n",
    "# import warnings\n",
    "# warnings.filterwarnings(\"ignore\")"
   ]
  },
  {
   "cell_type": "code",
   "execution_count": 7,
   "id": "6afa7fb4-bd7f-40ec-bb9f-ae3d934cfc22",
   "metadata": {},
   "outputs": [
    {
     "name": "stdout",
     "output_type": "stream",
     "text": [
      " .\t\t      Pipfile\t    'stress_prediction_notebook copy.ipynb'\n",
      " ..\t\t      Pipfile.lock   stress_prediction_notebook.ipynb\n",
      " .ipynb_checkpoints   README.md\n"
     ]
    }
   ],
   "source": [
    "!ls -a"
   ]
  },
  {
   "cell_type": "code",
   "execution_count": 8,
   "id": "994a85dd-10ca-4729-bf99-cbf2507e1070",
   "metadata": {},
   "outputs": [
    {
     "name": "stdout",
     "output_type": "stream",
     "text": [
      "Warning: Looks like you're using an outdated API Version, please consider updating (server 1.6.15 / client 1.6.14)\n",
      "Dataset URL: https://www.kaggle.com/datasets/ruchi798/stress-analysis-in-social-media\n",
      "License(s): other\n",
      "Downloading stress-analysis-in-social-media.zip to /home/ubuntu/mental_health_mlops_project/model/training\n",
      " 76%|█████████████████████████████         | 1.00M/1.31M [00:00<00:00, 1.88MB/s]\n",
      "100%|██████████████████████████████████████| 1.31M/1.31M [00:00<00:00, 2.33MB/s]\n"
     ]
    }
   ],
   "source": [
    "!kaggle datasets download -d ruchi798/stress-analysis-in-social-media"
   ]
  },
  {
   "cell_type": "code",
   "execution_count": 9,
   "id": "4460a947-d9c9-4538-8a63-850cdd68efe7",
   "metadata": {},
   "outputs": [],
   "source": [
    "!mv stress-analysis-in-social-media.zip ../../data/"
   ]
  },
  {
   "cell_type": "code",
   "execution_count": 10,
   "id": "07280d3e-6fc5-435d-98db-34b36baf2fd0",
   "metadata": {},
   "outputs": [
    {
     "name": "stdout",
     "output_type": "stream",
     "text": [
      "Archive:  ../../data/stress-analysis-in-social-media.zip\n",
      "  inflating: ../../data/dreaddit-test.csv  \n",
      "  inflating: ../../data/dreaddit-train.csv  \n"
     ]
    }
   ],
   "source": [
    "!unzip ../../data/stress-analysis-in-social-media.zip -d ../../data/ "
   ]
  },
  {
   "cell_type": "code",
   "execution_count": 11,
   "id": "b76f613e-8b97-4fb8-b335-70bda2b96432",
   "metadata": {},
   "outputs": [],
   "source": [
    "!rm ../../data/stress-analysis-in-social-media.zip "
   ]
  },
  {
   "cell_type": "code",
   "execution_count": 12,
   "id": "0e087409-a7e8-4126-b779-fb3e65f683b5",
   "metadata": {},
   "outputs": [],
   "source": [
    "train = pd.read_csv(\"../../data/dreaddit-train.csv\")\n",
    "test = pd.read_csv(\"../../data/dreaddit-test.csv\")"
   ]
  },
  {
   "cell_type": "code",
   "execution_count": 13,
   "id": "90293165-66de-42a3-b42f-c7373c3e2c7c",
   "metadata": {},
   "outputs": [
    {
     "data": {
      "text/plain": [
       "array(['ptsd', 'assistance', 'relationships', 'survivorsofabuse',\n",
       "       'domesticviolence', 'anxiety', 'homeless', 'stress',\n",
       "       'almosthomeless', 'food_pantry'], dtype=object)"
      ]
     },
     "execution_count": 13,
     "metadata": {},
     "output_type": "execute_result"
    }
   ],
   "source": [
    "train[\"subreddit\"].unique()"
   ]
  },
  {
   "cell_type": "code",
   "execution_count": 14,
   "id": "be44a87c-3448-4ca2-96a6-d01ee9ea5d44",
   "metadata": {},
   "outputs": [
    {
     "data": {
      "text/html": [
       "<div>\n",
       "<style scoped>\n",
       "    .dataframe tbody tr th:only-of-type {\n",
       "        vertical-align: middle;\n",
       "    }\n",
       "\n",
       "    .dataframe tbody tr th {\n",
       "        vertical-align: top;\n",
       "    }\n",
       "\n",
       "    .dataframe thead th {\n",
       "        text-align: right;\n",
       "    }\n",
       "</style>\n",
       "<table border=\"1\" class=\"dataframe\">\n",
       "  <thead>\n",
       "    <tr style=\"text-align: right;\">\n",
       "      <th></th>\n",
       "      <th>subreddit</th>\n",
       "      <th>post_id</th>\n",
       "      <th>sentence_range</th>\n",
       "      <th>text</th>\n",
       "      <th>id</th>\n",
       "      <th>label</th>\n",
       "      <th>confidence</th>\n",
       "      <th>social_timestamp</th>\n",
       "      <th>social_karma</th>\n",
       "      <th>syntax_ari</th>\n",
       "      <th>...</th>\n",
       "      <th>lex_dal_min_pleasantness</th>\n",
       "      <th>lex_dal_min_activation</th>\n",
       "      <th>lex_dal_min_imagery</th>\n",
       "      <th>lex_dal_avg_activation</th>\n",
       "      <th>lex_dal_avg_imagery</th>\n",
       "      <th>lex_dal_avg_pleasantness</th>\n",
       "      <th>social_upvote_ratio</th>\n",
       "      <th>social_num_comments</th>\n",
       "      <th>syntax_fk_grade</th>\n",
       "      <th>sentiment</th>\n",
       "    </tr>\n",
       "  </thead>\n",
       "  <tbody>\n",
       "    <tr>\n",
       "      <th>0</th>\n",
       "      <td>ptsd</td>\n",
       "      <td>8601tu</td>\n",
       "      <td>(15, 20)</td>\n",
       "      <td>He said he had not felt that way before, sugge...</td>\n",
       "      <td>33181</td>\n",
       "      <td>1</td>\n",
       "      <td>0.800000</td>\n",
       "      <td>1521614353</td>\n",
       "      <td>5</td>\n",
       "      <td>1.806818</td>\n",
       "      <td>...</td>\n",
       "      <td>1.0000</td>\n",
       "      <td>1.1250</td>\n",
       "      <td>1.0</td>\n",
       "      <td>1.77000</td>\n",
       "      <td>1.52211</td>\n",
       "      <td>1.89556</td>\n",
       "      <td>0.86</td>\n",
       "      <td>1</td>\n",
       "      <td>3.253573</td>\n",
       "      <td>-0.002742</td>\n",
       "    </tr>\n",
       "    <tr>\n",
       "      <th>1</th>\n",
       "      <td>assistance</td>\n",
       "      <td>8lbrx9</td>\n",
       "      <td>(0, 5)</td>\n",
       "      <td>Hey there r/assistance, Not sure if this is th...</td>\n",
       "      <td>2606</td>\n",
       "      <td>0</td>\n",
       "      <td>1.000000</td>\n",
       "      <td>1527009817</td>\n",
       "      <td>4</td>\n",
       "      <td>9.429737</td>\n",
       "      <td>...</td>\n",
       "      <td>1.1250</td>\n",
       "      <td>1.0000</td>\n",
       "      <td>1.0</td>\n",
       "      <td>1.69586</td>\n",
       "      <td>1.62045</td>\n",
       "      <td>1.88919</td>\n",
       "      <td>0.65</td>\n",
       "      <td>2</td>\n",
       "      <td>8.828316</td>\n",
       "      <td>0.292857</td>\n",
       "    </tr>\n",
       "    <tr>\n",
       "      <th>2</th>\n",
       "      <td>ptsd</td>\n",
       "      <td>9ch1zh</td>\n",
       "      <td>(15, 20)</td>\n",
       "      <td>My mom then hit me with the newspaper and it s...</td>\n",
       "      <td>38816</td>\n",
       "      <td>1</td>\n",
       "      <td>0.800000</td>\n",
       "      <td>1535935605</td>\n",
       "      <td>2</td>\n",
       "      <td>7.769821</td>\n",
       "      <td>...</td>\n",
       "      <td>1.0000</td>\n",
       "      <td>1.1429</td>\n",
       "      <td>1.0</td>\n",
       "      <td>1.83088</td>\n",
       "      <td>1.58108</td>\n",
       "      <td>1.85828</td>\n",
       "      <td>0.67</td>\n",
       "      <td>0</td>\n",
       "      <td>7.841667</td>\n",
       "      <td>0.011894</td>\n",
       "    </tr>\n",
       "    <tr>\n",
       "      <th>3</th>\n",
       "      <td>relationships</td>\n",
       "      <td>7rorpp</td>\n",
       "      <td>[5, 10]</td>\n",
       "      <td>until i met my new boyfriend, he is amazing, h...</td>\n",
       "      <td>239</td>\n",
       "      <td>1</td>\n",
       "      <td>0.600000</td>\n",
       "      <td>1516429555</td>\n",
       "      <td>0</td>\n",
       "      <td>2.667798</td>\n",
       "      <td>...</td>\n",
       "      <td>1.0000</td>\n",
       "      <td>1.1250</td>\n",
       "      <td>1.0</td>\n",
       "      <td>1.75356</td>\n",
       "      <td>1.52114</td>\n",
       "      <td>1.98848</td>\n",
       "      <td>0.50</td>\n",
       "      <td>5</td>\n",
       "      <td>4.104027</td>\n",
       "      <td>0.141671</td>\n",
       "    </tr>\n",
       "    <tr>\n",
       "      <th>4</th>\n",
       "      <td>survivorsofabuse</td>\n",
       "      <td>9p2gbc</td>\n",
       "      <td>[0, 5]</td>\n",
       "      <td>October is Domestic Violence Awareness Month a...</td>\n",
       "      <td>1421</td>\n",
       "      <td>1</td>\n",
       "      <td>0.800000</td>\n",
       "      <td>1539809005</td>\n",
       "      <td>24</td>\n",
       "      <td>7.554238</td>\n",
       "      <td>...</td>\n",
       "      <td>1.0000</td>\n",
       "      <td>1.1250</td>\n",
       "      <td>1.0</td>\n",
       "      <td>1.77644</td>\n",
       "      <td>1.64872</td>\n",
       "      <td>1.81456</td>\n",
       "      <td>1.00</td>\n",
       "      <td>1</td>\n",
       "      <td>7.910952</td>\n",
       "      <td>-0.204167</td>\n",
       "    </tr>\n",
       "    <tr>\n",
       "      <th>...</th>\n",
       "      <td>...</td>\n",
       "      <td>...</td>\n",
       "      <td>...</td>\n",
       "      <td>...</td>\n",
       "      <td>...</td>\n",
       "      <td>...</td>\n",
       "      <td>...</td>\n",
       "      <td>...</td>\n",
       "      <td>...</td>\n",
       "      <td>...</td>\n",
       "      <td>...</td>\n",
       "      <td>...</td>\n",
       "      <td>...</td>\n",
       "      <td>...</td>\n",
       "      <td>...</td>\n",
       "      <td>...</td>\n",
       "      <td>...</td>\n",
       "      <td>...</td>\n",
       "      <td>...</td>\n",
       "      <td>...</td>\n",
       "      <td>...</td>\n",
       "    </tr>\n",
       "    <tr>\n",
       "      <th>2833</th>\n",
       "      <td>relationships</td>\n",
       "      <td>7oee1t</td>\n",
       "      <td>[35, 40]</td>\n",
       "      <td>* Her, a week ago: Precious, how are you? (I i...</td>\n",
       "      <td>1713</td>\n",
       "      <td>0</td>\n",
       "      <td>1.000000</td>\n",
       "      <td>1515187044</td>\n",
       "      <td>13</td>\n",
       "      <td>-1.369333</td>\n",
       "      <td>...</td>\n",
       "      <td>1.4000</td>\n",
       "      <td>1.0000</td>\n",
       "      <td>1.0</td>\n",
       "      <td>1.71133</td>\n",
       "      <td>1.45301</td>\n",
       "      <td>2.00304</td>\n",
       "      <td>0.84</td>\n",
       "      <td>16</td>\n",
       "      <td>0.254444</td>\n",
       "      <td>0.552066</td>\n",
       "    </tr>\n",
       "    <tr>\n",
       "      <th>2834</th>\n",
       "      <td>ptsd</td>\n",
       "      <td>9p4ung</td>\n",
       "      <td>[20, 25]</td>\n",
       "      <td>I don't have the ability to cope with it anymo...</td>\n",
       "      <td>1133</td>\n",
       "      <td>1</td>\n",
       "      <td>1.000000</td>\n",
       "      <td>1539827412</td>\n",
       "      <td>33</td>\n",
       "      <td>9.425478</td>\n",
       "      <td>...</td>\n",
       "      <td>1.0000</td>\n",
       "      <td>1.0000</td>\n",
       "      <td>1.0</td>\n",
       "      <td>1.65003</td>\n",
       "      <td>1.56842</td>\n",
       "      <td>1.81527</td>\n",
       "      <td>0.96</td>\n",
       "      <td>6</td>\n",
       "      <td>8.640664</td>\n",
       "      <td>-0.220370</td>\n",
       "    </tr>\n",
       "    <tr>\n",
       "      <th>2835</th>\n",
       "      <td>anxiety</td>\n",
       "      <td>9nam6l</td>\n",
       "      <td>(5, 10)</td>\n",
       "      <td>In case this is the first time you're reading ...</td>\n",
       "      <td>10442</td>\n",
       "      <td>0</td>\n",
       "      <td>1.000000</td>\n",
       "      <td>1539269312</td>\n",
       "      <td>2</td>\n",
       "      <td>11.060675</td>\n",
       "      <td>...</td>\n",
       "      <td>1.1250</td>\n",
       "      <td>1.1250</td>\n",
       "      <td>1.0</td>\n",
       "      <td>1.79768</td>\n",
       "      <td>1.49074</td>\n",
       "      <td>1.92286</td>\n",
       "      <td>1.00</td>\n",
       "      <td>1</td>\n",
       "      <td>9.951524</td>\n",
       "      <td>0.045455</td>\n",
       "    </tr>\n",
       "    <tr>\n",
       "      <th>2836</th>\n",
       "      <td>almosthomeless</td>\n",
       "      <td>5y53ya</td>\n",
       "      <td>[5, 10]</td>\n",
       "      <td>Do you find this normal? They have a good rela...</td>\n",
       "      <td>1834</td>\n",
       "      <td>0</td>\n",
       "      <td>0.571429</td>\n",
       "      <td>1488938143</td>\n",
       "      <td>4</td>\n",
       "      <td>2.421912</td>\n",
       "      <td>...</td>\n",
       "      <td>1.1111</td>\n",
       "      <td>1.1429</td>\n",
       "      <td>1.0</td>\n",
       "      <td>1.71642</td>\n",
       "      <td>1.57627</td>\n",
       "      <td>1.89972</td>\n",
       "      <td>0.75</td>\n",
       "      <td>7</td>\n",
       "      <td>4.036765</td>\n",
       "      <td>0.159722</td>\n",
       "    </tr>\n",
       "    <tr>\n",
       "      <th>2837</th>\n",
       "      <td>ptsd</td>\n",
       "      <td>5y25cl</td>\n",
       "      <td>[0, 5]</td>\n",
       "      <td>I was talking to my mom this morning and she s...</td>\n",
       "      <td>961</td>\n",
       "      <td>1</td>\n",
       "      <td>0.571429</td>\n",
       "      <td>1488909516</td>\n",
       "      <td>2</td>\n",
       "      <td>0.835254</td>\n",
       "      <td>...</td>\n",
       "      <td>1.0000</td>\n",
       "      <td>1.0000</td>\n",
       "      <td>1.0</td>\n",
       "      <td>1.68891</td>\n",
       "      <td>1.44615</td>\n",
       "      <td>1.89707</td>\n",
       "      <td>0.76</td>\n",
       "      <td>2</td>\n",
       "      <td>2.412000</td>\n",
       "      <td>0.016667</td>\n",
       "    </tr>\n",
       "  </tbody>\n",
       "</table>\n",
       "<p>2838 rows × 116 columns</p>\n",
       "</div>"
      ],
      "text/plain": [
       "             subreddit post_id sentence_range  \\\n",
       "0                 ptsd  8601tu       (15, 20)   \n",
       "1           assistance  8lbrx9         (0, 5)   \n",
       "2                 ptsd  9ch1zh       (15, 20)   \n",
       "3        relationships  7rorpp        [5, 10]   \n",
       "4     survivorsofabuse  9p2gbc         [0, 5]   \n",
       "...                ...     ...            ...   \n",
       "2833     relationships  7oee1t       [35, 40]   \n",
       "2834              ptsd  9p4ung       [20, 25]   \n",
       "2835           anxiety  9nam6l        (5, 10)   \n",
       "2836    almosthomeless  5y53ya        [5, 10]   \n",
       "2837              ptsd  5y25cl         [0, 5]   \n",
       "\n",
       "                                                   text     id  label  \\\n",
       "0     He said he had not felt that way before, sugge...  33181      1   \n",
       "1     Hey there r/assistance, Not sure if this is th...   2606      0   \n",
       "2     My mom then hit me with the newspaper and it s...  38816      1   \n",
       "3     until i met my new boyfriend, he is amazing, h...    239      1   \n",
       "4     October is Domestic Violence Awareness Month a...   1421      1   \n",
       "...                                                 ...    ...    ...   \n",
       "2833  * Her, a week ago: Precious, how are you? (I i...   1713      0   \n",
       "2834  I don't have the ability to cope with it anymo...   1133      1   \n",
       "2835  In case this is the first time you're reading ...  10442      0   \n",
       "2836  Do you find this normal? They have a good rela...   1834      0   \n",
       "2837  I was talking to my mom this morning and she s...    961      1   \n",
       "\n",
       "      confidence  social_timestamp  social_karma  syntax_ari  ...  \\\n",
       "0       0.800000        1521614353             5    1.806818  ...   \n",
       "1       1.000000        1527009817             4    9.429737  ...   \n",
       "2       0.800000        1535935605             2    7.769821  ...   \n",
       "3       0.600000        1516429555             0    2.667798  ...   \n",
       "4       0.800000        1539809005            24    7.554238  ...   \n",
       "...          ...               ...           ...         ...  ...   \n",
       "2833    1.000000        1515187044            13   -1.369333  ...   \n",
       "2834    1.000000        1539827412            33    9.425478  ...   \n",
       "2835    1.000000        1539269312             2   11.060675  ...   \n",
       "2836    0.571429        1488938143             4    2.421912  ...   \n",
       "2837    0.571429        1488909516             2    0.835254  ...   \n",
       "\n",
       "      lex_dal_min_pleasantness  lex_dal_min_activation  lex_dal_min_imagery  \\\n",
       "0                       1.0000                  1.1250                  1.0   \n",
       "1                       1.1250                  1.0000                  1.0   \n",
       "2                       1.0000                  1.1429                  1.0   \n",
       "3                       1.0000                  1.1250                  1.0   \n",
       "4                       1.0000                  1.1250                  1.0   \n",
       "...                        ...                     ...                  ...   \n",
       "2833                    1.4000                  1.0000                  1.0   \n",
       "2834                    1.0000                  1.0000                  1.0   \n",
       "2835                    1.1250                  1.1250                  1.0   \n",
       "2836                    1.1111                  1.1429                  1.0   \n",
       "2837                    1.0000                  1.0000                  1.0   \n",
       "\n",
       "      lex_dal_avg_activation  lex_dal_avg_imagery  lex_dal_avg_pleasantness  \\\n",
       "0                    1.77000              1.52211                   1.89556   \n",
       "1                    1.69586              1.62045                   1.88919   \n",
       "2                    1.83088              1.58108                   1.85828   \n",
       "3                    1.75356              1.52114                   1.98848   \n",
       "4                    1.77644              1.64872                   1.81456   \n",
       "...                      ...                  ...                       ...   \n",
       "2833                 1.71133              1.45301                   2.00304   \n",
       "2834                 1.65003              1.56842                   1.81527   \n",
       "2835                 1.79768              1.49074                   1.92286   \n",
       "2836                 1.71642              1.57627                   1.89972   \n",
       "2837                 1.68891              1.44615                   1.89707   \n",
       "\n",
       "      social_upvote_ratio  social_num_comments  syntax_fk_grade  sentiment  \n",
       "0                    0.86                    1         3.253573  -0.002742  \n",
       "1                    0.65                    2         8.828316   0.292857  \n",
       "2                    0.67                    0         7.841667   0.011894  \n",
       "3                    0.50                    5         4.104027   0.141671  \n",
       "4                    1.00                    1         7.910952  -0.204167  \n",
       "...                   ...                  ...              ...        ...  \n",
       "2833                 0.84                   16         0.254444   0.552066  \n",
       "2834                 0.96                    6         8.640664  -0.220370  \n",
       "2835                 1.00                    1         9.951524   0.045455  \n",
       "2836                 0.75                    7         4.036765   0.159722  \n",
       "2837                 0.76                    2         2.412000   0.016667  \n",
       "\n",
       "[2838 rows x 116 columns]"
      ]
     },
     "execution_count": 14,
     "metadata": {},
     "output_type": "execute_result"
    }
   ],
   "source": [
    "train"
   ]
  },
  {
   "cell_type": "code",
   "execution_count": 15,
   "id": "cd3acdfe-fe1f-448f-8fe7-df34a7020340",
   "metadata": {},
   "outputs": [
    {
     "name": "stdout",
     "output_type": "stream",
     "text": [
      "Rows : 2838\n"
     ]
    }
   ],
   "source": [
    "print(\"Rows :\", train.shape[0])"
   ]
  },
  {
   "cell_type": "code",
   "execution_count": 16,
   "id": "e0761b9d-68ee-4b03-9505-babc229d557c",
   "metadata": {},
   "outputs": [
    {
     "name": "stdout",
     "output_type": "stream",
     "text": [
      "Columns : 116\n"
     ]
    }
   ],
   "source": [
    "print(\"Columns :\", train.shape[1])"
   ]
  },
  {
   "cell_type": "code",
   "execution_count": 17,
   "id": "7e1b3316-08d4-4bc9-889a-7663cb740678",
   "metadata": {},
   "outputs": [
    {
     "name": "stdout",
     "output_type": "stream",
     "text": [
      "<class 'pandas.core.frame.DataFrame'>\n",
      "RangeIndex: 2838 entries, 0 to 2837\n",
      "Columns: 116 entries, subreddit to sentiment\n",
      "dtypes: float64(106), int64(6), object(4)\n",
      "memory usage: 2.5+ MB\n",
      "None\n"
     ]
    }
   ],
   "source": [
    "print(train.info())"
   ]
  },
  {
   "cell_type": "code",
   "execution_count": 18,
   "id": "49fb957e-5d29-4c66-a3e4-b90ab1988096",
   "metadata": {},
   "outputs": [
    {
     "name": "stdout",
     "output_type": "stream",
     "text": [
      "subreddit           10\n",
      "post_id           2343\n",
      "sentence_range     173\n",
      "text              2820\n",
      "dtype: int64\n"
     ]
    }
   ],
   "source": [
    "print(train.select_dtypes(include=['object']).apply(pd.Series.nunique, axis=0))"
   ]
  },
  {
   "cell_type": "code",
   "execution_count": 19,
   "id": "255ac12a-e789-46b9-90e4-b33564957da8",
   "metadata": {},
   "outputs": [],
   "source": [
    "categorical_columns = list(train.select_dtypes(include=['object']).columns)"
   ]
  },
  {
   "cell_type": "code",
   "execution_count": 20,
   "id": "80100fbf-9088-4650-a351-86ad8588ed51",
   "metadata": {},
   "outputs": [],
   "source": [
    "numerical_columns = [column for column in train.columns if column not in categorical_columns and column not in ['label']]"
   ]
  },
  {
   "cell_type": "code",
   "execution_count": 21,
   "id": "8ab5ac9c-877c-4e75-8d96-4e25cc4baf4e",
   "metadata": {},
   "outputs": [
    {
     "data": {
      "text/plain": [
       "['id',\n",
       " 'confidence',\n",
       " 'social_timestamp',\n",
       " 'social_karma',\n",
       " 'syntax_ari',\n",
       " 'lex_liwc_WC',\n",
       " 'lex_liwc_Analytic',\n",
       " 'lex_liwc_Clout',\n",
       " 'lex_liwc_Authentic',\n",
       " 'lex_liwc_Tone',\n",
       " 'lex_liwc_WPS',\n",
       " 'lex_liwc_Sixltr',\n",
       " 'lex_liwc_Dic',\n",
       " 'lex_liwc_function',\n",
       " 'lex_liwc_pronoun',\n",
       " 'lex_liwc_ppron',\n",
       " 'lex_liwc_i',\n",
       " 'lex_liwc_we',\n",
       " 'lex_liwc_you',\n",
       " 'lex_liwc_shehe',\n",
       " 'lex_liwc_they',\n",
       " 'lex_liwc_ipron',\n",
       " 'lex_liwc_article',\n",
       " 'lex_liwc_prep',\n",
       " 'lex_liwc_auxverb',\n",
       " 'lex_liwc_adverb',\n",
       " 'lex_liwc_conj',\n",
       " 'lex_liwc_negate',\n",
       " 'lex_liwc_verb',\n",
       " 'lex_liwc_adj',\n",
       " 'lex_liwc_compare',\n",
       " 'lex_liwc_interrog',\n",
       " 'lex_liwc_number',\n",
       " 'lex_liwc_quant',\n",
       " 'lex_liwc_affect',\n",
       " 'lex_liwc_posemo',\n",
       " 'lex_liwc_negemo',\n",
       " 'lex_liwc_anx',\n",
       " 'lex_liwc_anger',\n",
       " 'lex_liwc_sad',\n",
       " 'lex_liwc_social',\n",
       " 'lex_liwc_family',\n",
       " 'lex_liwc_friend',\n",
       " 'lex_liwc_female',\n",
       " 'lex_liwc_male',\n",
       " 'lex_liwc_cogproc',\n",
       " 'lex_liwc_insight',\n",
       " 'lex_liwc_cause',\n",
       " 'lex_liwc_discrep',\n",
       " 'lex_liwc_tentat',\n",
       " 'lex_liwc_certain',\n",
       " 'lex_liwc_differ',\n",
       " 'lex_liwc_percept',\n",
       " 'lex_liwc_see',\n",
       " 'lex_liwc_hear',\n",
       " 'lex_liwc_feel',\n",
       " 'lex_liwc_bio',\n",
       " 'lex_liwc_body',\n",
       " 'lex_liwc_health',\n",
       " 'lex_liwc_sexual',\n",
       " 'lex_liwc_ingest',\n",
       " 'lex_liwc_drives',\n",
       " 'lex_liwc_affiliation',\n",
       " 'lex_liwc_achieve',\n",
       " 'lex_liwc_power',\n",
       " 'lex_liwc_reward',\n",
       " 'lex_liwc_risk',\n",
       " 'lex_liwc_focuspast',\n",
       " 'lex_liwc_focuspresent',\n",
       " 'lex_liwc_focusfuture',\n",
       " 'lex_liwc_relativ',\n",
       " 'lex_liwc_motion',\n",
       " 'lex_liwc_space',\n",
       " 'lex_liwc_time',\n",
       " 'lex_liwc_work',\n",
       " 'lex_liwc_leisure',\n",
       " 'lex_liwc_home',\n",
       " 'lex_liwc_money',\n",
       " 'lex_liwc_relig',\n",
       " 'lex_liwc_death',\n",
       " 'lex_liwc_informal',\n",
       " 'lex_liwc_swear',\n",
       " 'lex_liwc_netspeak',\n",
       " 'lex_liwc_assent',\n",
       " 'lex_liwc_nonflu',\n",
       " 'lex_liwc_filler',\n",
       " 'lex_liwc_AllPunc',\n",
       " 'lex_liwc_Period',\n",
       " 'lex_liwc_Comma',\n",
       " 'lex_liwc_Colon',\n",
       " 'lex_liwc_SemiC',\n",
       " 'lex_liwc_QMark',\n",
       " 'lex_liwc_Exclam',\n",
       " 'lex_liwc_Dash',\n",
       " 'lex_liwc_Quote',\n",
       " 'lex_liwc_Apostro',\n",
       " 'lex_liwc_Parenth',\n",
       " 'lex_liwc_OtherP',\n",
       " 'lex_dal_max_pleasantness',\n",
       " 'lex_dal_max_activation',\n",
       " 'lex_dal_max_imagery',\n",
       " 'lex_dal_min_pleasantness',\n",
       " 'lex_dal_min_activation',\n",
       " 'lex_dal_min_imagery',\n",
       " 'lex_dal_avg_activation',\n",
       " 'lex_dal_avg_imagery',\n",
       " 'lex_dal_avg_pleasantness',\n",
       " 'social_upvote_ratio',\n",
       " 'social_num_comments',\n",
       " 'syntax_fk_grade',\n",
       " 'sentiment']"
      ]
     },
     "execution_count": 21,
     "metadata": {},
     "output_type": "execute_result"
    }
   ],
   "source": [
    "numerical_columns"
   ]
  },
  {
   "cell_type": "code",
   "execution_count": 22,
   "id": "77d61e80-9139-4c92-85bd-60348b9fe820",
   "metadata": {},
   "outputs": [],
   "source": [
    "categorical_columns = [column for column in categorical_columns if column != 'text'] "
   ]
  },
  {
   "cell_type": "code",
   "execution_count": 23,
   "id": "71b1ebe9-6f06-40fd-95ab-217eb521fcaf",
   "metadata": {},
   "outputs": [
    {
     "data": {
      "text/plain": [
       "['subreddit', 'post_id', 'sentence_range']"
      ]
     },
     "execution_count": 23,
     "metadata": {},
     "output_type": "execute_result"
    }
   ],
   "source": [
    "categorical_columns"
   ]
  },
  {
   "cell_type": "code",
   "execution_count": 24,
   "id": "89137548-c06a-49f9-bbf5-0b48dc82b888",
   "metadata": {},
   "outputs": [
    {
     "data": {
      "text/html": [
       "<div>\n",
       "<style scoped>\n",
       "    .dataframe tbody tr th:only-of-type {\n",
       "        vertical-align: middle;\n",
       "    }\n",
       "\n",
       "    .dataframe tbody tr th {\n",
       "        vertical-align: top;\n",
       "    }\n",
       "\n",
       "    .dataframe thead th {\n",
       "        text-align: right;\n",
       "    }\n",
       "</style>\n",
       "<table border=\"1\" class=\"dataframe\">\n",
       "  <thead>\n",
       "    <tr style=\"text-align: right;\">\n",
       "      <th></th>\n",
       "      <th>subreddit</th>\n",
       "      <th>post_id</th>\n",
       "      <th>sentence_range</th>\n",
       "    </tr>\n",
       "  </thead>\n",
       "  <tbody>\n",
       "    <tr>\n",
       "      <th>0</th>\n",
       "      <td>ptsd</td>\n",
       "      <td>8601tu</td>\n",
       "      <td>(15, 20)</td>\n",
       "    </tr>\n",
       "    <tr>\n",
       "      <th>1</th>\n",
       "      <td>assistance</td>\n",
       "      <td>8lbrx9</td>\n",
       "      <td>(0, 5)</td>\n",
       "    </tr>\n",
       "    <tr>\n",
       "      <th>2</th>\n",
       "      <td>ptsd</td>\n",
       "      <td>9ch1zh</td>\n",
       "      <td>(15, 20)</td>\n",
       "    </tr>\n",
       "    <tr>\n",
       "      <th>3</th>\n",
       "      <td>relationships</td>\n",
       "      <td>7rorpp</td>\n",
       "      <td>[5, 10]</td>\n",
       "    </tr>\n",
       "    <tr>\n",
       "      <th>4</th>\n",
       "      <td>survivorsofabuse</td>\n",
       "      <td>9p2gbc</td>\n",
       "      <td>[0, 5]</td>\n",
       "    </tr>\n",
       "    <tr>\n",
       "      <th>...</th>\n",
       "      <td>...</td>\n",
       "      <td>...</td>\n",
       "      <td>...</td>\n",
       "    </tr>\n",
       "    <tr>\n",
       "      <th>2833</th>\n",
       "      <td>relationships</td>\n",
       "      <td>7oee1t</td>\n",
       "      <td>[35, 40]</td>\n",
       "    </tr>\n",
       "    <tr>\n",
       "      <th>2834</th>\n",
       "      <td>ptsd</td>\n",
       "      <td>9p4ung</td>\n",
       "      <td>[20, 25]</td>\n",
       "    </tr>\n",
       "    <tr>\n",
       "      <th>2835</th>\n",
       "      <td>anxiety</td>\n",
       "      <td>9nam6l</td>\n",
       "      <td>(5, 10)</td>\n",
       "    </tr>\n",
       "    <tr>\n",
       "      <th>2836</th>\n",
       "      <td>almosthomeless</td>\n",
       "      <td>5y53ya</td>\n",
       "      <td>[5, 10]</td>\n",
       "    </tr>\n",
       "    <tr>\n",
       "      <th>2837</th>\n",
       "      <td>ptsd</td>\n",
       "      <td>5y25cl</td>\n",
       "      <td>[0, 5]</td>\n",
       "    </tr>\n",
       "  </tbody>\n",
       "</table>\n",
       "<p>2838 rows × 3 columns</p>\n",
       "</div>"
      ],
      "text/plain": [
       "             subreddit post_id sentence_range\n",
       "0                 ptsd  8601tu       (15, 20)\n",
       "1           assistance  8lbrx9         (0, 5)\n",
       "2                 ptsd  9ch1zh       (15, 20)\n",
       "3        relationships  7rorpp        [5, 10]\n",
       "4     survivorsofabuse  9p2gbc         [0, 5]\n",
       "...                ...     ...            ...\n",
       "2833     relationships  7oee1t       [35, 40]\n",
       "2834              ptsd  9p4ung       [20, 25]\n",
       "2835           anxiety  9nam6l        (5, 10)\n",
       "2836    almosthomeless  5y53ya        [5, 10]\n",
       "2837              ptsd  5y25cl         [0, 5]\n",
       "\n",
       "[2838 rows x 3 columns]"
      ]
     },
     "execution_count": 24,
     "metadata": {},
     "output_type": "execute_result"
    }
   ],
   "source": [
    "train[categorical_columns]"
   ]
  },
  {
   "cell_type": "code",
   "execution_count": 25,
   "id": "b0c32095-0cce-47b0-b7f1-eefc969dad3b",
   "metadata": {},
   "outputs": [
    {
     "data": {
      "text/html": [
       "<div>\n",
       "<style scoped>\n",
       "    .dataframe tbody tr th:only-of-type {\n",
       "        vertical-align: middle;\n",
       "    }\n",
       "\n",
       "    .dataframe tbody tr th {\n",
       "        vertical-align: top;\n",
       "    }\n",
       "\n",
       "    .dataframe thead th {\n",
       "        text-align: right;\n",
       "    }\n",
       "</style>\n",
       "<table border=\"1\" class=\"dataframe\">\n",
       "  <thead>\n",
       "    <tr style=\"text-align: right;\">\n",
       "      <th></th>\n",
       "      <th>id</th>\n",
       "      <th>confidence</th>\n",
       "      <th>social_timestamp</th>\n",
       "      <th>social_karma</th>\n",
       "      <th>syntax_ari</th>\n",
       "      <th>lex_liwc_WC</th>\n",
       "      <th>lex_liwc_Analytic</th>\n",
       "      <th>lex_liwc_Clout</th>\n",
       "      <th>lex_liwc_Authentic</th>\n",
       "      <th>lex_liwc_Tone</th>\n",
       "      <th>...</th>\n",
       "      <th>lex_dal_min_pleasantness</th>\n",
       "      <th>lex_dal_min_activation</th>\n",
       "      <th>lex_dal_min_imagery</th>\n",
       "      <th>lex_dal_avg_activation</th>\n",
       "      <th>lex_dal_avg_imagery</th>\n",
       "      <th>lex_dal_avg_pleasantness</th>\n",
       "      <th>social_upvote_ratio</th>\n",
       "      <th>social_num_comments</th>\n",
       "      <th>syntax_fk_grade</th>\n",
       "      <th>sentiment</th>\n",
       "    </tr>\n",
       "  </thead>\n",
       "  <tbody>\n",
       "    <tr>\n",
       "      <th>0</th>\n",
       "      <td>33181</td>\n",
       "      <td>0.800000</td>\n",
       "      <td>1521614353</td>\n",
       "      <td>5</td>\n",
       "      <td>1.806818</td>\n",
       "      <td>116</td>\n",
       "      <td>72.64</td>\n",
       "      <td>15.04</td>\n",
       "      <td>89.26</td>\n",
       "      <td>1.00</td>\n",
       "      <td>...</td>\n",
       "      <td>1.0000</td>\n",
       "      <td>1.1250</td>\n",
       "      <td>1.0</td>\n",
       "      <td>1.77000</td>\n",
       "      <td>1.52211</td>\n",
       "      <td>1.89556</td>\n",
       "      <td>0.86</td>\n",
       "      <td>1</td>\n",
       "      <td>3.253573</td>\n",
       "      <td>-0.002742</td>\n",
       "    </tr>\n",
       "    <tr>\n",
       "      <th>1</th>\n",
       "      <td>2606</td>\n",
       "      <td>1.000000</td>\n",
       "      <td>1527009817</td>\n",
       "      <td>4</td>\n",
       "      <td>9.429737</td>\n",
       "      <td>109</td>\n",
       "      <td>79.08</td>\n",
       "      <td>76.85</td>\n",
       "      <td>56.75</td>\n",
       "      <td>98.18</td>\n",
       "      <td>...</td>\n",
       "      <td>1.1250</td>\n",
       "      <td>1.0000</td>\n",
       "      <td>1.0</td>\n",
       "      <td>1.69586</td>\n",
       "      <td>1.62045</td>\n",
       "      <td>1.88919</td>\n",
       "      <td>0.65</td>\n",
       "      <td>2</td>\n",
       "      <td>8.828316</td>\n",
       "      <td>0.292857</td>\n",
       "    </tr>\n",
       "    <tr>\n",
       "      <th>2</th>\n",
       "      <td>38816</td>\n",
       "      <td>0.800000</td>\n",
       "      <td>1535935605</td>\n",
       "      <td>2</td>\n",
       "      <td>7.769821</td>\n",
       "      <td>167</td>\n",
       "      <td>33.80</td>\n",
       "      <td>76.38</td>\n",
       "      <td>86.24</td>\n",
       "      <td>25.77</td>\n",
       "      <td>...</td>\n",
       "      <td>1.0000</td>\n",
       "      <td>1.1429</td>\n",
       "      <td>1.0</td>\n",
       "      <td>1.83088</td>\n",
       "      <td>1.58108</td>\n",
       "      <td>1.85828</td>\n",
       "      <td>0.67</td>\n",
       "      <td>0</td>\n",
       "      <td>7.841667</td>\n",
       "      <td>0.011894</td>\n",
       "    </tr>\n",
       "    <tr>\n",
       "      <th>3</th>\n",
       "      <td>239</td>\n",
       "      <td>0.600000</td>\n",
       "      <td>1516429555</td>\n",
       "      <td>0</td>\n",
       "      <td>2.667798</td>\n",
       "      <td>273</td>\n",
       "      <td>2.98</td>\n",
       "      <td>15.25</td>\n",
       "      <td>95.42</td>\n",
       "      <td>79.26</td>\n",
       "      <td>...</td>\n",
       "      <td>1.0000</td>\n",
       "      <td>1.1250</td>\n",
       "      <td>1.0</td>\n",
       "      <td>1.75356</td>\n",
       "      <td>1.52114</td>\n",
       "      <td>1.98848</td>\n",
       "      <td>0.50</td>\n",
       "      <td>5</td>\n",
       "      <td>4.104027</td>\n",
       "      <td>0.141671</td>\n",
       "    </tr>\n",
       "    <tr>\n",
       "      <th>4</th>\n",
       "      <td>1421</td>\n",
       "      <td>0.800000</td>\n",
       "      <td>1539809005</td>\n",
       "      <td>24</td>\n",
       "      <td>7.554238</td>\n",
       "      <td>89</td>\n",
       "      <td>32.22</td>\n",
       "      <td>28.71</td>\n",
       "      <td>84.01</td>\n",
       "      <td>1.00</td>\n",
       "      <td>...</td>\n",
       "      <td>1.0000</td>\n",
       "      <td>1.1250</td>\n",
       "      <td>1.0</td>\n",
       "      <td>1.77644</td>\n",
       "      <td>1.64872</td>\n",
       "      <td>1.81456</td>\n",
       "      <td>1.00</td>\n",
       "      <td>1</td>\n",
       "      <td>7.910952</td>\n",
       "      <td>-0.204167</td>\n",
       "    </tr>\n",
       "    <tr>\n",
       "      <th>...</th>\n",
       "      <td>...</td>\n",
       "      <td>...</td>\n",
       "      <td>...</td>\n",
       "      <td>...</td>\n",
       "      <td>...</td>\n",
       "      <td>...</td>\n",
       "      <td>...</td>\n",
       "      <td>...</td>\n",
       "      <td>...</td>\n",
       "      <td>...</td>\n",
       "      <td>...</td>\n",
       "      <td>...</td>\n",
       "      <td>...</td>\n",
       "      <td>...</td>\n",
       "      <td>...</td>\n",
       "      <td>...</td>\n",
       "      <td>...</td>\n",
       "      <td>...</td>\n",
       "      <td>...</td>\n",
       "      <td>...</td>\n",
       "      <td>...</td>\n",
       "    </tr>\n",
       "    <tr>\n",
       "      <th>2833</th>\n",
       "      <td>1713</td>\n",
       "      <td>1.000000</td>\n",
       "      <td>1515187044</td>\n",
       "      <td>13</td>\n",
       "      <td>-1.369333</td>\n",
       "      <td>89</td>\n",
       "      <td>19.41</td>\n",
       "      <td>99.00</td>\n",
       "      <td>37.57</td>\n",
       "      <td>99.00</td>\n",
       "      <td>...</td>\n",
       "      <td>1.4000</td>\n",
       "      <td>1.0000</td>\n",
       "      <td>1.0</td>\n",
       "      <td>1.71133</td>\n",
       "      <td>1.45301</td>\n",
       "      <td>2.00304</td>\n",
       "      <td>0.84</td>\n",
       "      <td>16</td>\n",
       "      <td>0.254444</td>\n",
       "      <td>0.552066</td>\n",
       "    </tr>\n",
       "    <tr>\n",
       "      <th>2834</th>\n",
       "      <td>1133</td>\n",
       "      <td>1.000000</td>\n",
       "      <td>1539827412</td>\n",
       "      <td>33</td>\n",
       "      <td>9.425478</td>\n",
       "      <td>135</td>\n",
       "      <td>40.97</td>\n",
       "      <td>4.45</td>\n",
       "      <td>98.01</td>\n",
       "      <td>1.00</td>\n",
       "      <td>...</td>\n",
       "      <td>1.0000</td>\n",
       "      <td>1.0000</td>\n",
       "      <td>1.0</td>\n",
       "      <td>1.65003</td>\n",
       "      <td>1.56842</td>\n",
       "      <td>1.81527</td>\n",
       "      <td>0.96</td>\n",
       "      <td>6</td>\n",
       "      <td>8.640664</td>\n",
       "      <td>-0.220370</td>\n",
       "    </tr>\n",
       "    <tr>\n",
       "      <th>2835</th>\n",
       "      <td>10442</td>\n",
       "      <td>1.000000</td>\n",
       "      <td>1539269312</td>\n",
       "      <td>2</td>\n",
       "      <td>11.060675</td>\n",
       "      <td>134</td>\n",
       "      <td>79.52</td>\n",
       "      <td>97.34</td>\n",
       "      <td>2.27</td>\n",
       "      <td>80.01</td>\n",
       "      <td>...</td>\n",
       "      <td>1.1250</td>\n",
       "      <td>1.1250</td>\n",
       "      <td>1.0</td>\n",
       "      <td>1.79768</td>\n",
       "      <td>1.49074</td>\n",
       "      <td>1.92286</td>\n",
       "      <td>1.00</td>\n",
       "      <td>1</td>\n",
       "      <td>9.951524</td>\n",
       "      <td>0.045455</td>\n",
       "    </tr>\n",
       "    <tr>\n",
       "      <th>2836</th>\n",
       "      <td>1834</td>\n",
       "      <td>0.571429</td>\n",
       "      <td>1488938143</td>\n",
       "      <td>4</td>\n",
       "      <td>2.421912</td>\n",
       "      <td>68</td>\n",
       "      <td>29.74</td>\n",
       "      <td>61.58</td>\n",
       "      <td>21.06</td>\n",
       "      <td>25.77</td>\n",
       "      <td>...</td>\n",
       "      <td>1.1111</td>\n",
       "      <td>1.1429</td>\n",
       "      <td>1.0</td>\n",
       "      <td>1.71642</td>\n",
       "      <td>1.57627</td>\n",
       "      <td>1.89972</td>\n",
       "      <td>0.75</td>\n",
       "      <td>7</td>\n",
       "      <td>4.036765</td>\n",
       "      <td>0.159722</td>\n",
       "    </tr>\n",
       "    <tr>\n",
       "      <th>2837</th>\n",
       "      <td>961</td>\n",
       "      <td>0.571429</td>\n",
       "      <td>1488909516</td>\n",
       "      <td>2</td>\n",
       "      <td>0.835254</td>\n",
       "      <td>57</td>\n",
       "      <td>1.00</td>\n",
       "      <td>29.92</td>\n",
       "      <td>28.23</td>\n",
       "      <td>1.00</td>\n",
       "      <td>...</td>\n",
       "      <td>1.0000</td>\n",
       "      <td>1.0000</td>\n",
       "      <td>1.0</td>\n",
       "      <td>1.68891</td>\n",
       "      <td>1.44615</td>\n",
       "      <td>1.89707</td>\n",
       "      <td>0.76</td>\n",
       "      <td>2</td>\n",
       "      <td>2.412000</td>\n",
       "      <td>0.016667</td>\n",
       "    </tr>\n",
       "  </tbody>\n",
       "</table>\n",
       "<p>2838 rows × 111 columns</p>\n",
       "</div>"
      ],
      "text/plain": [
       "         id  confidence  social_timestamp  social_karma  syntax_ari  \\\n",
       "0     33181    0.800000        1521614353             5    1.806818   \n",
       "1      2606    1.000000        1527009817             4    9.429737   \n",
       "2     38816    0.800000        1535935605             2    7.769821   \n",
       "3       239    0.600000        1516429555             0    2.667798   \n",
       "4      1421    0.800000        1539809005            24    7.554238   \n",
       "...     ...         ...               ...           ...         ...   \n",
       "2833   1713    1.000000        1515187044            13   -1.369333   \n",
       "2834   1133    1.000000        1539827412            33    9.425478   \n",
       "2835  10442    1.000000        1539269312             2   11.060675   \n",
       "2836   1834    0.571429        1488938143             4    2.421912   \n",
       "2837    961    0.571429        1488909516             2    0.835254   \n",
       "\n",
       "      lex_liwc_WC  lex_liwc_Analytic  lex_liwc_Clout  lex_liwc_Authentic  \\\n",
       "0             116              72.64           15.04               89.26   \n",
       "1             109              79.08           76.85               56.75   \n",
       "2             167              33.80           76.38               86.24   \n",
       "3             273               2.98           15.25               95.42   \n",
       "4              89              32.22           28.71               84.01   \n",
       "...           ...                ...             ...                 ...   \n",
       "2833           89              19.41           99.00               37.57   \n",
       "2834          135              40.97            4.45               98.01   \n",
       "2835          134              79.52           97.34                2.27   \n",
       "2836           68              29.74           61.58               21.06   \n",
       "2837           57               1.00           29.92               28.23   \n",
       "\n",
       "      lex_liwc_Tone  ...  lex_dal_min_pleasantness  lex_dal_min_activation  \\\n",
       "0              1.00  ...                    1.0000                  1.1250   \n",
       "1             98.18  ...                    1.1250                  1.0000   \n",
       "2             25.77  ...                    1.0000                  1.1429   \n",
       "3             79.26  ...                    1.0000                  1.1250   \n",
       "4              1.00  ...                    1.0000                  1.1250   \n",
       "...             ...  ...                       ...                     ...   \n",
       "2833          99.00  ...                    1.4000                  1.0000   \n",
       "2834           1.00  ...                    1.0000                  1.0000   \n",
       "2835          80.01  ...                    1.1250                  1.1250   \n",
       "2836          25.77  ...                    1.1111                  1.1429   \n",
       "2837           1.00  ...                    1.0000                  1.0000   \n",
       "\n",
       "      lex_dal_min_imagery  lex_dal_avg_activation  lex_dal_avg_imagery  \\\n",
       "0                     1.0                 1.77000              1.52211   \n",
       "1                     1.0                 1.69586              1.62045   \n",
       "2                     1.0                 1.83088              1.58108   \n",
       "3                     1.0                 1.75356              1.52114   \n",
       "4                     1.0                 1.77644              1.64872   \n",
       "...                   ...                     ...                  ...   \n",
       "2833                  1.0                 1.71133              1.45301   \n",
       "2834                  1.0                 1.65003              1.56842   \n",
       "2835                  1.0                 1.79768              1.49074   \n",
       "2836                  1.0                 1.71642              1.57627   \n",
       "2837                  1.0                 1.68891              1.44615   \n",
       "\n",
       "      lex_dal_avg_pleasantness  social_upvote_ratio  social_num_comments  \\\n",
       "0                      1.89556                 0.86                    1   \n",
       "1                      1.88919                 0.65                    2   \n",
       "2                      1.85828                 0.67                    0   \n",
       "3                      1.98848                 0.50                    5   \n",
       "4                      1.81456                 1.00                    1   \n",
       "...                        ...                  ...                  ...   \n",
       "2833                   2.00304                 0.84                   16   \n",
       "2834                   1.81527                 0.96                    6   \n",
       "2835                   1.92286                 1.00                    1   \n",
       "2836                   1.89972                 0.75                    7   \n",
       "2837                   1.89707                 0.76                    2   \n",
       "\n",
       "      syntax_fk_grade  sentiment  \n",
       "0            3.253573  -0.002742  \n",
       "1            8.828316   0.292857  \n",
       "2            7.841667   0.011894  \n",
       "3            4.104027   0.141671  \n",
       "4            7.910952  -0.204167  \n",
       "...               ...        ...  \n",
       "2833         0.254444   0.552066  \n",
       "2834         8.640664  -0.220370  \n",
       "2835         9.951524   0.045455  \n",
       "2836         4.036765   0.159722  \n",
       "2837         2.412000   0.016667  \n",
       "\n",
       "[2838 rows x 111 columns]"
      ]
     },
     "execution_count": 25,
     "metadata": {},
     "output_type": "execute_result"
    }
   ],
   "source": [
    "train[numerical_columns]"
   ]
  },
  {
   "cell_type": "code",
   "execution_count": 26,
   "id": "0cfbb38d-d577-4c8b-b06e-22fab48ec293",
   "metadata": {},
   "outputs": [
    {
     "name": "stdout",
     "output_type": "stream",
     "text": [
      "0\n"
     ]
    }
   ],
   "source": [
    "# No missing data\n",
    "print(train.isnull().sum().sum())"
   ]
  },
  {
   "cell_type": "code",
   "execution_count": null,
   "id": "b2f36128-04c4-4105-b4ed-634ef62fc481",
   "metadata": {},
   "outputs": [],
   "source": []
  },
  {
   "cell_type": "code",
   "execution_count": 27,
   "id": "d5f42cfa-c64d-4dd0-bf88-1828d30e1520",
   "metadata": {},
   "outputs": [],
   "source": [
    "train_numerical = train[numerical_columns]  # Select your numerical features here\n",
    "label = train['label']  # Target variable\n",
    "\n",
    "# Calculate mutual information scores\n",
    "mi_scores = mutual_info_classif(train_numerical, label)\n",
    "\n",
    "# Create a DataFrame to display the scores\n",
    "feature_scores = pd.DataFrame({\n",
    "    'Feature': train_numerical.columns,\n",
    "    'Score': mi_scores\n",
    "})\n",
    "\n",
    "# # Display sorted features by score\n",
    "top_features = feature_scores.sort_values(by='Score', ascending=False).head(5)\n",
    "selected_features = top_features['Feature'].tolist()\n"
   ]
  },
  {
   "cell_type": "code",
   "execution_count": 28,
   "id": "22d983f1-5c7d-447f-9225-dda1c3091c84",
   "metadata": {},
   "outputs": [],
   "source": [
    "numerical_columns = selected_features"
   ]
  },
  {
   "cell_type": "code",
   "execution_count": 29,
   "id": "f7cb8c34-7e00-4050-bb26-fd27503e85a3",
   "metadata": {},
   "outputs": [
    {
     "data": {
      "text/plain": [
       "['lex_liwc_Tone',\n",
       " 'lex_liwc_negemo',\n",
       " 'lex_liwc_i',\n",
       " 'lex_liwc_Clout',\n",
       " 'sentiment']"
      ]
     },
     "execution_count": 29,
     "metadata": {},
     "output_type": "execute_result"
    }
   ],
   "source": [
    "numerical_columns "
   ]
  },
  {
   "cell_type": "markdown",
   "id": "1db7225e-7e3b-4002-9d6d-5dec611a8ea0",
   "metadata": {},
   "source": [
    "## Note that an arbitrary number of 5 columns were selected just for experimentation purposes"
   ]
  },
  {
   "cell_type": "code",
   "execution_count": 30,
   "id": "5276b067-d1a9-418a-bf71-d65c150bc656",
   "metadata": {},
   "outputs": [
    {
     "name": "stdout",
     "output_type": "stream",
     "text": [
      "                      Feature     Score\n",
      "9               lex_liwc_Tone  0.108896\n",
      "36            lex_liwc_negemo  0.090665\n",
      "16                 lex_liwc_i  0.088867\n",
      "7              lex_liwc_Clout  0.085876\n",
      "110                 sentiment  0.058093\n",
      "101  lex_dal_min_pleasantness  0.051165\n",
      "8          lex_liwc_Authentic  0.044665\n",
      "40            lex_liwc_social  0.043696\n",
      "37               lex_liwc_anx  0.043626\n",
      "35            lex_liwc_posemo  0.041720\n"
     ]
    }
   ],
   "source": [
    "feature_scores.sort_values(by='Score', ascending=False, inplace=True)\n",
    "print(feature_scores[:10])"
   ]
  },
  {
   "cell_type": "code",
   "execution_count": 31,
   "id": "5e27d0ff-2fcb-4a45-8c10-73edaa929ebc",
   "metadata": {},
   "outputs": [],
   "source": [
    "# Standardization\n",
    "scaler = StandardScaler()"
   ]
  },
  {
   "cell_type": "code",
   "execution_count": 32,
   "id": "f3177326-9ca8-4ca3-b942-fe2189547a95",
   "metadata": {},
   "outputs": [],
   "source": [
    "def process_numerical_features(df):\n",
    "    X_numerical = df[numerical_columns]\n",
    "    X_numerical = scaler.fit_transform(X_numerical)\n",
    "    return X_numerical\n",
    "    "
   ]
  },
  {
   "cell_type": "code",
   "execution_count": 33,
   "id": "69ccccbf-4918-4e6d-abff-243763b5b5df",
   "metadata": {},
   "outputs": [],
   "source": [
    "import string\n",
    "#Get a list of punctuations\n",
    "punct = []\n",
    "for char in string.punctuation:\n",
    "    punct.append(char)"
   ]
  },
  {
   "cell_type": "code",
   "execution_count": 34,
   "id": "2c503f91-ec70-48f8-8c30-1edd4bf7b399",
   "metadata": {},
   "outputs": [],
   "source": [
    "#To clean test\n",
    "def removal(text):\n",
    "    text = str(text).lower()\n",
    "    text = re.sub('https?://\\S+|www\\.\\S+', '', text)\n",
    "    text = re.sub('<.*?>+', '', text)\n",
    "    text = re.sub('\\w*\\d\\w*', '', text)\n",
    "    text = [w for w in text.split(' ') if w not in stopwords]\n",
    "    text=\" \".join(text)\n",
    "    text = [stemmer.stem(word) for word in text.split(' ')]\n",
    "    text=\" \".join(text)\n",
    "    return text"
   ]
  },
  {
   "cell_type": "code",
   "execution_count": 35,
   "id": "642bd1b0-0348-4726-aa73-03dc73f339b2",
   "metadata": {},
   "outputs": [],
   "source": [
    "\n",
    "vect=CountVectorizer(stop_words=\"english\")"
   ]
  },
  {
   "cell_type": "code",
   "execution_count": 36,
   "id": "d8a547d1-9212-4d51-9d00-d2353013d464",
   "metadata": {},
   "outputs": [],
   "source": [
    "def process_categorical_features(train, vect = None):\n",
    "    posts = train[[\"text\"]]\n",
    "    posts[\"text\"] = posts[\"text\"].apply(removal)\n",
    "    # posts[\"sentiment\"] = posts[\"text\"].apply(mood)\n",
    "    X = posts[\"text\"]\n",
    "    if vect:\n",
    "        X = vect.transform(X)\n",
    "    else:\n",
    "        vect=CountVectorizer(stop_words=\"english\")\n",
    "        X=vect.fit_transform(X)\n",
    "    return X, vect\n",
    "    "
   ]
  },
  {
   "cell_type": "code",
   "execution_count": 37,
   "id": "0095fc2a-a44a-433d-8b74-cab6ecee381d",
   "metadata": {},
   "outputs": [],
   "source": [
    "def prepare_features(train, vect=None):\n",
    "    X_categorical, vect = process_categorical_features(train, vect)\n",
    "    X_numerical = process_numerical_features(train)\n",
    "    X_combined = np.hstack((X_categorical.toarray(), X_numerical))\n",
    "\n",
    "    return X_combined\n",
    "    \n",
    "    "
   ]
  },
  {
   "cell_type": "markdown",
   "id": "d5a670af",
   "metadata": {},
   "source": [
    "Two experiments are done. One to extract the multimodal features of numerical(i.e. tabular) and social media text data, and also extracting features with just the social media text data. "
   ]
  },
  {
   "cell_type": "code",
   "execution_count": 38,
   "id": "6368855b-936f-4f13-b76a-7d9cbf8f7b69",
   "metadata": {},
   "outputs": [
    {
     "name": "stderr",
     "output_type": "stream",
     "text": [
      "/tmp/ipykernel_13552/1075191487.py:3: SettingWithCopyWarning: \n",
      "A value is trying to be set on a copy of a slice from a DataFrame.\n",
      "Try using .loc[row_indexer,col_indexer] = value instead\n",
      "\n",
      "See the caveats in the documentation: https://pandas.pydata.org/pandas-docs/stable/user_guide/indexing.html#returning-a-view-versus-a-copy\n",
      "  posts[\"text\"] = posts[\"text\"].apply(removal)\n"
     ]
    }
   ],
   "source": [
    "X_combined = prepare_features(train)"
   ]
  },
  {
   "cell_type": "code",
   "execution_count": 39,
   "id": "a906c325-39e7-4986-868b-c3d6f90b8066",
   "metadata": {},
   "outputs": [
    {
     "data": {
      "text/plain": [
       "(2838, 9453)"
      ]
     },
     "execution_count": 39,
     "metadata": {},
     "output_type": "execute_result"
    }
   ],
   "source": [
    "X_combined.shape"
   ]
  },
  {
   "cell_type": "code",
   "execution_count": 40,
   "id": "94db2f3a-bb2d-45b6-94b3-b6ccc77dd560",
   "metadata": {},
   "outputs": [
    {
     "data": {
      "image/png": "[encoded data removed]",
      "text/plain": [
       "<Figure size 3000x3000 with 1 Axes>"
      ]
     },
     "metadata": {},
     "output_type": "display_data"
    }
   ],
   "source": [
    "#Wordcloud\n",
    "def wc(data,bgcolor):\n",
    "    plt.figure(figsize=(30,30))\n",
    "    #mask=np.array(Image.open('/kaggle/input/stressanalysisinsocialmedia/stress-954814_960_720.png'))\n",
    "    wc=WordCloud(background_color=bgcolor,stopwords=STOPWORDS)\n",
    "    wc.generate(' '.join(data))\n",
    "    plt.imshow(wc)\n",
    "    plt.axis(\"off\")\n",
    "wc(train.text,'grey')"
   ]
  },
  {
   "cell_type": "code",
   "execution_count": 41,
   "id": "95899d52-5805-416b-878a-9d78b3a1a64b",
   "metadata": {},
   "outputs": [],
   "source": [
    "#Adding meaning to text from og dataset\n",
    "train[\"meaning\"] = train[\"label\"].map({0:\"Unstressed\", 1:\"Stressed\"})\n"
   ]
  },
  {
   "cell_type": "code",
   "execution_count": 42,
   "id": "0b01888c-ff6a-433b-9716-a62db227691a",
   "metadata": {},
   "outputs": [],
   "source": [
    "value_counts = train[\"meaning\"].value_counts()"
   ]
  },
  {
   "cell_type": "code",
   "execution_count": 43,
   "id": "90bf7970-78f3-4e01-b75d-c394da768b6e",
   "metadata": {},
   "outputs": [
    {
     "data": {
      "text/plain": [
       "<Axes: xlabel='meaning'>"
      ]
     },
     "execution_count": 43,
     "metadata": {},
     "output_type": "execute_result"
    },
    {
     "data": {
      "image/png": "[encoded data removed]",
      "text/plain": [
       "<Figure size 640x480 with 1 Axes>"
      ]
     },
     "metadata": {},
     "output_type": "display_data"
    }
   ],
   "source": [
    "value_counts.plot(kind='bar', color=['blue', 'cyan'])\n",
    "\n"
   ]
  },
  {
   "cell_type": "code",
   "execution_count": null,
   "id": "3c9aacda-183a-4b7c-9663-13a5f5a9790f",
   "metadata": {},
   "outputs": [],
   "source": []
  },
  {
   "cell_type": "code",
   "execution_count": 44,
   "id": "cccbd969-7d8a-4cac-b17e-0489675a68c7",
   "metadata": {},
   "outputs": [],
   "source": [
    "# y = posts[\"meaning\"]\n",
    "y = train['label']"
   ]
  },
  {
   "cell_type": "code",
   "execution_count": 45,
   "id": "47a2f6e6-723f-4af7-a9ca-94af28760152",
   "metadata": {},
   "outputs": [
    {
     "name": "stderr",
     "output_type": "stream",
     "text": [
      "/tmp/ipykernel_13552/1075191487.py:3: SettingWithCopyWarning: \n",
      "A value is trying to be set on a copy of a slice from a DataFrame.\n",
      "Try using .loc[row_indexer,col_indexer] = value instead\n",
      "\n",
      "See the caveats in the documentation: https://pandas.pydata.org/pandas-docs/stable/user_guide/indexing.html#returning-a-view-versus-a-copy\n",
      "  posts[\"text\"] = posts[\"text\"].apply(removal)\n"
     ]
    }
   ],
   "source": [
    "X_text_features, vect = process_categorical_features(train)\n"
   ]
  },
  {
   "cell_type": "code",
   "execution_count": 46,
   "id": "31326788-497d-46a9-8852-99a846b20dd5",
   "metadata": {},
   "outputs": [
    {
     "data": {
      "text/plain": [
       "(2838, 9448)"
      ]
     },
     "execution_count": 46,
     "metadata": {},
     "output_type": "execute_result"
    }
   ],
   "source": [
    "X_text_features.toarray().shape"
   ]
  },
  {
   "cell_type": "code",
   "execution_count": 47,
   "id": "9bca96a2-a6d7-4243-90dc-81a7b7c768be",
   "metadata": {},
   "outputs": [],
   "source": [
    "x_train_combined,x_test_combined,y_train,y_test=train_test_split(X_combined,y,random_state=43)\n"
   ]
  },
  {
   "cell_type": "markdown",
   "id": "8a5e4b99",
   "metadata": {},
   "source": [
    "Note that I splitted the data after extracting the features. The data can also be splitted before extracting the features and get the same results if the random state is maintained."
   ]
  },
  {
   "cell_type": "code",
   "execution_count": 48,
   "id": "8355e066-6baf-4748-9386-8661ac9d680b",
   "metadata": {},
   "outputs": [
    {
     "data": {
      "text/plain": [
       "(2838, 9453)"
      ]
     },
     "execution_count": 48,
     "metadata": {},
     "output_type": "execute_result"
    }
   ],
   "source": [
    "X_combined.shape"
   ]
  },
  {
   "cell_type": "code",
   "execution_count": 49,
   "id": "f262d9b4-bce5-4220-92a9-8bdba7a7ca80",
   "metadata": {},
   "outputs": [],
   "source": [
    "# X_text_features"
   ]
  },
  {
   "cell_type": "code",
   "execution_count": 50,
   "id": "d3b8f771-1c94-4fb9-8169-d1a42c9a38f0",
   "metadata": {},
   "outputs": [],
   "source": [
    "x_train_text,x_test_text,y_train,y_test=train_test_split(X_text_features.toarray(),y,random_state=43)"
   ]
  },
  {
   "cell_type": "code",
   "execution_count": 51,
   "id": "36355f79-4e3e-421c-aa8d-a01c79346db9",
   "metadata": {},
   "outputs": [
    {
     "data": {
      "text/plain": [
       "array([[ 0.        ,  0.        ,  0.        , ...,  0.14479295,\n",
       "         0.0421692 , -0.35461566],\n",
       "       [ 0.        ,  0.        ,  0.        , ...,  0.80026067,\n",
       "        -0.90870238, -0.11250743],\n",
       "       [ 0.        ,  0.        ,  0.        , ...,  0.31456983,\n",
       "        -0.5325334 ,  0.79654045],\n",
       "       ...,\n",
       "       [ 0.        ,  0.        ,  0.        , ...,  0.40483096,\n",
       "         1.38409186,  0.80506753],\n",
       "       [ 0.        ,  0.        ,  0.        , ..., -0.63747017,\n",
       "         0.13336168, -1.21341466],\n",
       "       [ 0.        ,  0.        ,  0.        , ..., -0.50422755,\n",
       "         0.47438356,  1.04504399]])"
      ]
     },
     "execution_count": 51,
     "metadata": {},
     "output_type": "execute_result"
    }
   ],
   "source": [
    "x_train_combined"
   ]
  },
  {
   "cell_type": "code",
   "execution_count": 52,
   "id": "67404e52-fc37-4fea-beb1-dcbec250820d",
   "metadata": {},
   "outputs": [
    {
     "name": "stdout",
     "output_type": "stream",
     "text": [
      "Model Accuracy for Naive Bayes for text input is 70.85%\n"
     ]
    }
   ],
   "source": [
    "mb=MultinomialNB()\n",
    "mb.fit(x_train_text,y_train)\n",
    "y_pred= mb.predict(x_test_text)\n",
    "\n",
    "print(f\"Model Accuracy for Naive Bayes for text input is {round (accuracy_score(y_pred,y_test)*100, 2)}%\")\n",
    "\n"
   ]
  },
  {
   "cell_type": "markdown",
   "id": "dd52445d",
   "metadata": {},
   "source": [
    "The MultinomialNB model does not accept negative values, therefore, this was not used on the combined data"
   ]
  },
  {
   "cell_type": "code",
   "execution_count": 53,
   "id": "43f9e277-a255-4981-a39f-fde34721eca8",
   "metadata": {},
   "outputs": [
    {
     "name": "stdout",
     "output_type": "stream",
     "text": [
      "Model Accuracy for logistic regression is 67.46%\n"
     ]
    }
   ],
   "source": [
    "\n",
    "logistic_reg =LogisticRegression().fit(x_train_text, y_train)\n",
    "y_pred= logistic_reg.predict(x_test_text)\n",
    "print(f\"Model Accuracy for logistic regression is {round (accuracy_score(y_pred,y_test)*100, 2)}%\")"
   ]
  },
  {
   "cell_type": "code",
   "execution_count": 54,
   "id": "b3472f37-1d1e-480b-b792-44fed97ca5a5",
   "metadata": {},
   "outputs": [
    {
     "name": "stdout",
     "output_type": "stream",
     "text": [
      "Model Accuracy for logistic regression for multimodal input is 70.99%\n"
     ]
    }
   ],
   "source": [
    "logistic_reg =LogisticRegression(max_iter=1000).fit(x_train_combined, y_train)\n",
    "y_pred= logistic_reg.predict(x_test_combined)\n",
    "print(f\"Model Accuracy for logistic regression for multimodal input is {round (accuracy_score(y_pred,y_test)*100, 2)}%\")"
   ]
  },
  {
   "cell_type": "code",
   "execution_count": 55,
   "id": "793434cb-a9af-4a2c-83ae-9b1b087c954c",
   "metadata": {},
   "outputs": [
    {
     "name": "stdout",
     "output_type": "stream",
     "text": [
      "Model Accuracy for Decision Tree for text input is is 63.24%\n"
     ]
    }
   ],
   "source": [
    "\n",
    "tree=DecisionTreeClassifier()\n",
    "tree.fit(x_train_text,y_train)\n",
    "y_pred=tree.predict(x_test_text)\n",
    "print(f\"Model Accuracy for Decision Tree for text input is is {round (accuracy_score(y_test,y_pred)*100, 2)}%\")"
   ]
  },
  {
   "cell_type": "code",
   "execution_count": 56,
   "id": "d177035d-db04-43ea-9f57-1892b6153e0d",
   "metadata": {},
   "outputs": [
    {
     "name": "stdout",
     "output_type": "stream",
     "text": [
      "Model Accuracy for Decision Tree multimodal input is 66.48%\n"
     ]
    }
   ],
   "source": [
    "tree=DecisionTreeClassifier()\n",
    "tree.fit(x_train_combined,y_train)\n",
    "y_pred=tree.predict(x_test_combined)\n",
    "print(f\"Model Accuracy for Decision Tree multimodal input is {round (accuracy_score(y_test,y_pred)*100, 2)}%\")"
   ]
  },
  {
   "cell_type": "code",
   "execution_count": 57,
   "id": "f4a3181b-6136-4fbd-a2a2-fedad1a71686",
   "metadata": {},
   "outputs": [
    {
     "name": "stdout",
     "output_type": "stream",
     "text": [
      "Model Accuracy for Gaussian Naive Bayes for text input is 62.11%\n"
     ]
    }
   ],
   "source": [
    "clf = GaussianNB()\n",
    "clf.fit(x_train_text, y_train)\n",
    "y_pred=clf.predict(x_test_text)\n",
    "print(f\"Model Accuracy for Gaussian Naive Bayes for text input is {round (accuracy_score(y_test,y_pred)*100, 2)}%\")"
   ]
  },
  {
   "cell_type": "code",
   "execution_count": 58,
   "id": "cad6d7f3-2b9b-4a62-a9c6-8e7b6c2bd49c",
   "metadata": {},
   "outputs": [
    {
     "name": "stdout",
     "output_type": "stream",
     "text": [
      "Model Accuracy for Gaussian Naive Bayes for multimodal input is 62.11%\n"
     ]
    }
   ],
   "source": [
    "clf = GaussianNB()\n",
    "clf.fit(x_train_combined, y_train)\n",
    "y_pred=clf.predict(x_test_combined)\n",
    "print(f\"Model Accuracy for Gaussian Naive Bayes for multimodal input is {round (accuracy_score(y_test,y_pred)*100, 2)}%\")\n"
   ]
  },
  {
   "cell_type": "code",
   "execution_count": 59,
   "id": "04d22d92-8900-4143-92a9-521f866cb948",
   "metadata": {},
   "outputs": [
    {
     "name": "stdout",
     "output_type": "stream",
     "text": [
      "Model Accuracy for Random Forest for text input: 66.06\n"
     ]
    }
   ],
   "source": [
    "# Create Random Forest classifier\n",
    "clf_rf = RandomForestClassifier(n_estimators=100, random_state=42)\n",
    "\n",
    "# Fit the classifier on the training data\n",
    "clf_rf.fit(x_train_text, y_train)\n",
    "\n",
    "# Make predictions on the test data\n",
    "y_pred_rf = clf_rf.predict(x_test_text)\n",
    "\n",
    "# Evaluate accuracy of the classifier\n",
    "accuracy_rf = round (accuracy_score(y_pred_rf,y_test)*100, 2)\n",
    "print(f\"Model Accuracy for Random Forest for text input: {accuracy_rf}\" )"
   ]
  },
  {
   "cell_type": "code",
   "execution_count": 60,
   "id": "fe354291-9d86-48c8-80bd-1170603829a1",
   "metadata": {},
   "outputs": [
    {
     "name": "stdout",
     "output_type": "stream",
     "text": [
      "Model Accuracy for Random Forest Accuracy for input is: 73.52\n"
     ]
    }
   ],
   "source": [
    "# Create Random Forest classifier\n",
    "clf_rf = RandomForestClassifier(n_estimators=100, random_state=42)\n",
    "\n",
    "# Fit the classifier on the training data\n",
    "clf_rf.fit(x_train_combined, y_train)\n",
    "\n",
    "# Make predictions on the test data\n",
    "y_pred_rf = clf_rf.predict(x_test_combined)\n",
    "\n",
    "# Evaluate accuracy of the classifier\n",
    "accuracy_rf = round (accuracy_score(y_pred_rf,y_test)*100, 2)\n",
    "print(f\"Model Accuracy for Random Forest Accuracy for input is: {accuracy_rf}\" )\n",
    "\n"
   ]
  },
  {
   "cell_type": "code",
   "execution_count": 61,
   "id": "e8509811-5cea-458e-a154-f727215055b9",
   "metadata": {},
   "outputs": [
    {
     "name": "stdout",
     "output_type": "stream",
     "text": [
      "Model accuracy for XGBoost for text input: 67.75\n"
     ]
    }
   ],
   "source": [
    "clf_xgb = XGBClassifier(n_estimators=100, random_state=42)\n",
    "\n",
    "# Fit the classifier on the training data\n",
    "clf_xgb.fit(x_train_text, y_train)\n",
    "\n",
    "# Make predictions on the test data\n",
    "y_pred_xgb = clf_xgb.predict(x_test_text)\n",
    "\n",
    "# Evaluate accuracy of the classifier\n",
    "accuracy_xgb = round (accuracy_score(y_pred_xgb,y_test)*100, 2)\n",
    "print(f\"Model accuracy for XGBoost for text input: {accuracy_xgb}\" )"
   ]
  },
  {
   "cell_type": "code",
   "execution_count": 62,
   "id": "befd1256-2852-4625-a65a-181c54174c7d",
   "metadata": {},
   "outputs": [
    {
     "name": "stdout",
     "output_type": "stream",
     "text": [
      "Model Accuracy for XGBoost for multimodal input: 72.82\n"
     ]
    }
   ],
   "source": [
    "clf_xgb = XGBClassifier(n_estimators=100, random_state=42)\n",
    "\n",
    "# Fit the classifier on the training data\n",
    "clf_xgb.fit(x_train_combined, y_train)\n",
    "\n",
    "# Make predictions on the test data\n",
    "y_pred_xgb = clf_xgb.predict(x_test_combined)\n",
    "\n",
    "# Evaluate accuracy of the classifier\n",
    "accuracy_xgb = round (accuracy_score(y_pred_xgb,y_test)*100, 2)\n",
    "print(f\"Model Accuracy for XGBoost for multimodal input: {accuracy_xgb}\" )"
   ]
  },
  {
   "cell_type": "code",
   "execution_count": null,
   "id": "72777cde-09f2-4935-a8ac-33aef63aed13",
   "metadata": {},
   "outputs": [],
   "source": []
  }
 ],
 "metadata": {
  "kernelspec": {
   "display_name": "Python 3 (ipykernel)",
   "language": "python",
   "name": "python3"
  },
  "language_info": {
   "codemirror_mode": {
    "name": "ipython",
    "version": 3
   },
   "file_extension": ".py",
   "mimetype": "text/x-python",
   "name": "python",
   "nbconvert_exporter": "python",
   "pygments_lexer": "ipython3",
   "version": "3.9.19"
  }
 },
 "nbformat": 4,
 "nbformat_minor": 5
}
